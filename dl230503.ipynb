{
  "nbformat": 4,
  "nbformat_minor": 0,
  "metadata": {
    "colab": {
      "provenance": [],
      "include_colab_link": true
    },
    "kernelspec": {
      "name": "python3",
      "display_name": "Python 3"
    },
    "language_info": {
      "name": "python"
    }
  },
  "cells": [
    {
      "cell_type": "markdown",
      "metadata": {
        "id": "view-in-github",
        "colab_type": "text"
      },
      "source": [
        "<a href=\"https://colab.research.google.com/github/dbdb7214/DL23/blob/main/dl230503.ipynb\" target=\"_parent\"><img src=\"https://colab.research.google.com/assets/colab-badge.svg\" alt=\"Open In Colab\"/></a>"
      ]
    },
    {
      "cell_type": "markdown",
      "source": [
        "# **Digital Literacy Midterm Spring 2023 (5/3, Wednesday)**\n",
        "\n",
        "There are two parts:\n",
        "\n",
        "🌀**Part I: Coding in Colab (20 questions, 30 points): max 40 mins**\n",
        "\n",
        "+ Q1~10 (1 point each * 10 = 10)\n",
        "+ Q11~Q20 (2 points each * 10 = 20)\n",
        "\n",
        "\n",
        "🌀**Part II: Google Form (30 questions, 30 points)**\n",
        "\n",
        "Total 50 minutes are allowed."
      ],
      "metadata": {
        "id": "uG7ryUj1vrAd"
      }
    },
    {
      "cell_type": "markdown",
      "source": [
        "---\n",
        "##**Instructions**\n",
        "\n",
        "When times up (max 40 mins), save this copy as a pdf file (to upload) AND to your github repository with the following file name format:\n",
        "\n",
        "\n",
        "## 📌 Files: \n",
        "##**1) dl230503_yourid.pdf**\n",
        "##**2) dl230503_yourid.ipynb**\n",
        "---"
      ],
      "metadata": {
        "id": "Nvk-6cX5vzGf"
      }
    },
    {
      "cell_type": "markdown",
      "source": [
        "# 🌀**Part I: Coding in Colab (20 questions, 30 points): max 40 mins**"
      ],
      "metadata": {
        "id": "QXo452swwdC-"
      }
    },
    {
      "cell_type": "code",
      "source": [
        "yourname = input(\"Type your name here: \")"
      ],
      "metadata": {
        "id": "Navu6pa1HRUo",
        "outputId": "c1cf2506-5c5d-4ffb-9cc6-66a7c4042337",
        "colab": {
          "base_uri": "https://localhost:8080/",
          "height": 0
        }
      },
      "execution_count": 1,
      "outputs": [
        {
          "name": "stdout",
          "output_type": "stream",
          "text": [
            "Type your name here: 강선유\n"
          ]
        }
      ]
    },
    {
      "cell_type": "markdown",
      "source": [
        "##Q1. Create a list called fruits and add three of your favorite fruits to it. Then, print the list."
      ],
      "metadata": {
        "id": "f_6UoScV9Egz"
      }
    },
    {
      "cell_type": "code",
      "source": [
        "fruits = ['Banana', 'Strawberry', 'Mango']\n",
        "print(fruits)"
      ],
      "metadata": {
        "id": "7pvq2ocQ9F5z",
        "colab": {
          "base_uri": "https://localhost:8080/",
          "height": 0
        },
        "outputId": "26285331-d9b7-4393-eb1f-a43da10b919a"
      },
      "execution_count": 3,
      "outputs": [
        {
          "output_type": "stream",
          "name": "stdout",
          "text": [
            "['Banana', 'Strawberry', 'Mango']\n"
          ]
        }
      ]
    },
    {
      "cell_type": "markdown",
      "source": [
        "##Q2. Create a variable called **_name_** and ask the user to enter their name. Then, print a message that says \"Hello, [name]!\"."
      ],
      "metadata": {
        "id": "PcXue4xzv-Yw"
      }
    },
    {
      "cell_type": "code",
      "source": [
        "name = input()\n",
        "print(\"Hello, \" + name + \"!\")"
      ],
      "metadata": {
        "id": "giTXfqgOwC0O",
        "colab": {
          "base_uri": "https://localhost:8080/",
          "height": 0
        },
        "outputId": "b0034aa3-e8ca-48e2-c55e-c761eb1f1476"
      },
      "execution_count": 12,
      "outputs": [
        {
          "output_type": "stream",
          "name": "stdout",
          "text": [
            "Sunyoo\n",
            "Hello, Sunyoo!\n"
          ]
        }
      ]
    },
    {
      "cell_type": "markdown",
      "source": [
        "##Q3. Create a variable called **_age_** and ask the user to enter their age. Then, print a message that says \"You are [age] years old\"."
      ],
      "metadata": {
        "id": "AePeo9Xj81Lq"
      }
    },
    {
      "cell_type": "code",
      "source": [
        "age = input()\n",
        "print(\"You are \" + age + \" years old.\")"
      ],
      "metadata": {
        "id": "-uZrFNqJ8-P1",
        "colab": {
          "base_uri": "https://localhost:8080/",
          "height": 0
        },
        "outputId": "0159b066-8acc-44ba-a201-dc67fd82cf05"
      },
      "execution_count": 14,
      "outputs": [
        {
          "output_type": "stream",
          "name": "stdout",
          "text": [
            "21\n",
            "You are 21 years old.\n"
          ]
        }
      ]
    },
    {
      "cell_type": "markdown",
      "source": [
        "##Q4. Create a dictionary called **_person_** with keys name, age, and ID. Set the values to your own name, age, and address. Then, print the dictionary."
      ],
      "metadata": {
        "id": "em_AuOW78-p2"
      }
    },
    {
      "cell_type": "code",
      "source": [
        "person = {'name': 'Sunyoo Kang', 'age': 21, 'address': 2022013192}\n",
        "\n",
        "print(person['name'])\n",
        "print(person['age'])\n",
        "print(person['address'])"
      ],
      "metadata": {
        "id": "RLK7p5Q49cV0",
        "colab": {
          "base_uri": "https://localhost:8080/",
          "height": 0
        },
        "outputId": "8def8db3-0ca8-4045-8989-bf93b50301ae"
      },
      "execution_count": 49,
      "outputs": [
        {
          "output_type": "stream",
          "name": "stdout",
          "text": [
            "Sunyoo Kang\n",
            "21\n",
            "2022013192\n"
          ]
        }
      ]
    },
    {
      "cell_type": "markdown",
      "source": [
        "##Q5. Create a variable called **_num1_** and set it to 5. Create another variable called **_num2_** and set it to 10. Add num1 and num2 together and print the result."
      ],
      "metadata": {
        "id": "d7JQrF_W9b0_"
      }
    },
    {
      "cell_type": "code",
      "source": [
        "num1 = 5\n",
        "num2 = 10\n",
        "print(num1 + num2)"
      ],
      "metadata": {
        "id": "tnZxKJ5D9veI",
        "colab": {
          "base_uri": "https://localhost:8080/",
          "height": 0
        },
        "outputId": "d46bb417-26a2-4202-d1ed-d52244483668"
      },
      "execution_count": 18,
      "outputs": [
        {
          "output_type": "stream",
          "name": "stdout",
          "text": [
            "15\n"
          ]
        }
      ]
    },
    {
      "cell_type": "markdown",
      "source": [
        "##Q6. Create a variable called **_num3_** and set it to 3. Create another variable called **_num4_** and set it to 2. Divide num3 by num4 and print the result."
      ],
      "metadata": {
        "id": "-i5804vz9U5q"
      }
    },
    {
      "cell_type": "code",
      "source": [
        "num3 = 3\n",
        "num4 = 2\n",
        "print(num3 / num4)"
      ],
      "metadata": {
        "id": "jzdLu_QG9-wY",
        "colab": {
          "base_uri": "https://localhost:8080/",
          "height": 0
        },
        "outputId": "1adffc7a-198d-4e25-f70f-7b57855c4d43"
      },
      "execution_count": 20,
      "outputs": [
        {
          "output_type": "stream",
          "name": "stdout",
          "text": [
            "1.5\n"
          ]
        }
      ]
    },
    {
      "cell_type": "markdown",
      "source": [
        "##Q7. Create a variable called **_sentence_** and set it to \"The quick brown fox jumps over the lazy dog\". Use the **split()** function to split the sentence into a list of words. Then, print the list."
      ],
      "metadata": {
        "id": "5s5sjEco9_CM"
      }
    },
    {
      "cell_type": "code",
      "source": [
        "sentence = \"The quick brown fox jumps over the lazy dog\"\n",
        "s = sentence.split(' ')\n",
        "print(s)"
      ],
      "metadata": {
        "id": "RD4gaQKe-KO-",
        "colab": {
          "base_uri": "https://localhost:8080/",
          "height": 0
        },
        "outputId": "c58f35fa-9c64-4e0b-d0ba-7f2c077785fc"
      },
      "execution_count": 62,
      "outputs": [
        {
          "output_type": "stream",
          "name": "stdout",
          "text": [
            "['The', 'quick', 'brown', 'fox', 'jumps', 'over', 'the', 'lazy', 'dog']\n"
          ]
        }
      ]
    },
    {
      "cell_type": "markdown",
      "source": [
        "##Q8. Create a list called **_colors_** and add three of your favorite colors to it. Use the **join()** function to join the list into a string separated by commas. Then, print the string."
      ],
      "metadata": {
        "id": "LB1OOu5--LEJ"
      }
    },
    {
      "cell_type": "code",
      "source": [
        "colors = ['Blue', 'Red', 'Black']\n",
        "c = join(',')\n",
        "print(c)"
      ],
      "metadata": {
        "id": "R885XASr-Ttn",
        "colab": {
          "base_uri": "https://localhost:8080/",
          "height": 211
        },
        "outputId": "fca8d124-52e6-4bcd-b3ae-a2391d316a0c"
      },
      "execution_count": 91,
      "outputs": [
        {
          "output_type": "error",
          "ename": "NameError",
          "evalue": "ignored",
          "traceback": [
            "\u001b[0;31m---------------------------------------------------------------------------\u001b[0m",
            "\u001b[0;31mNameError\u001b[0m                                 Traceback (most recent call last)",
            "\u001b[0;32m<ipython-input-91-029c0bb60e5b>\u001b[0m in \u001b[0;36m<cell line: 2>\u001b[0;34m()\u001b[0m\n\u001b[1;32m      1\u001b[0m \u001b[0mcolors\u001b[0m \u001b[0;34m=\u001b[0m \u001b[0;34m[\u001b[0m\u001b[0;34m'Blue'\u001b[0m\u001b[0;34m,\u001b[0m \u001b[0;34m'Red'\u001b[0m\u001b[0;34m,\u001b[0m \u001b[0;34m'Black'\u001b[0m\u001b[0;34m]\u001b[0m\u001b[0;34m\u001b[0m\u001b[0;34m\u001b[0m\u001b[0m\n\u001b[0;32m----> 2\u001b[0;31m \u001b[0mc\u001b[0m \u001b[0;34m=\u001b[0m \u001b[0mjoin\u001b[0m\u001b[0;34m(\u001b[0m\u001b[0;34m','\u001b[0m\u001b[0;34m)\u001b[0m\u001b[0;34m\u001b[0m\u001b[0;34m\u001b[0m\u001b[0m\n\u001b[0m\u001b[1;32m      3\u001b[0m \u001b[0mprint\u001b[0m\u001b[0;34m(\u001b[0m\u001b[0mc\u001b[0m\u001b[0;34m)\u001b[0m\u001b[0;34m\u001b[0m\u001b[0;34m\u001b[0m\u001b[0m\n",
            "\u001b[0;31mNameError\u001b[0m: name 'join' is not defined"
          ]
        }
      ]
    },
    {
      "cell_type": "markdown",
      "source": [
        "##Q9. Create a variable called **_number_** and set it to 5. Use the **str()** function to convert the number to a string. Then, print number + 7"
      ],
      "metadata": {
        "id": "dAI5abTF-UBn"
      }
    },
    {
      "cell_type": "code",
      "source": [
        "number = 5\n",
        "str(number)"
      ],
      "metadata": {
        "id": "JBBLWa8U-y60",
        "colab": {
          "base_uri": "https://localhost:8080/",
          "height": 0
        },
        "outputId": "ef633ea4-2909-40db-e62b-70fe8d7f3ac1"
      },
      "execution_count": 76,
      "outputs": [
        {
          "output_type": "stream",
          "name": "stdout",
          "text": [
            "Object `??` not found.\n"
          ]
        }
      ]
    },
    {
      "cell_type": "markdown",
      "source": [
        "##Q10. Create a variable called **_my_string_** and set it to \"Hello, world!\". Use the index() function to find the index of the letter \"w\" in the string. Then, print the index."
      ],
      "metadata": {
        "id": "p7l0HIDq-zJR"
      }
    },
    {
      "cell_type": "code",
      "source": [
        "my_string = \"Hello, world!\"\n",
        "my_string[7]"
      ],
      "metadata": {
        "id": "EQCj1EFc_wVi",
        "colab": {
          "base_uri": "https://localhost:8080/",
          "height": 35
        },
        "outputId": "10474b65-38ea-4c00-9e87-854359594913"
      },
      "execution_count": 33,
      "outputs": [
        {
          "output_type": "execute_result",
          "data": {
            "text/plain": [
              "'w'"
            ],
            "application/vnd.google.colaboratory.intrinsic+json": {
              "type": "string"
            }
          },
          "metadata": {},
          "execution_count": 33
        }
      ]
    },
    {
      "cell_type": "markdown",
      "source": [
        "##Q11. Create a variable called **_my_list_** and set it to [1, 2, 3, 4, 5]. Use the len() function to find the length of the list. Then, print the length."
      ],
      "metadata": {
        "id": "3cQvEKzw_xGG"
      }
    },
    {
      "cell_type": "code",
      "source": [
        "my_list = [1, 2, 3, 4, 5]\n",
        "len(my_list)"
      ],
      "metadata": {
        "id": "XWNin3P8_5N6",
        "colab": {
          "base_uri": "https://localhost:8080/",
          "height": 0
        },
        "outputId": "a50a7332-c0b4-42e7-e6b8-33c85a83146b"
      },
      "execution_count": 34,
      "outputs": [
        {
          "output_type": "execute_result",
          "data": {
            "text/plain": [
              "5"
            ]
          },
          "metadata": {},
          "execution_count": 34
        }
      ]
    },
    {
      "cell_type": "markdown",
      "source": [
        "##Q12. Create a variable called **_my_string_** and set it to \"Hello, world!\". Use slicing to print the first 5 characters of the string."
      ],
      "metadata": {
        "id": "x1wsjbhI_5oA"
      }
    },
    {
      "cell_type": "code",
      "source": [
        "my_string = \"Hello, world!\"\n"
      ],
      "metadata": {
        "id": "xw4BY9wJAFzc",
        "colab": {
          "base_uri": "https://localhost:8080/",
          "height": 193
        },
        "outputId": "3a3ba84b-630b-4334-e495-081e9520dc97"
      },
      "execution_count": 37,
      "outputs": [
        {
          "output_type": "error",
          "ename": "NameError",
          "evalue": "ignored",
          "traceback": [
            "\u001b[0;31m---------------------------------------------------------------------------\u001b[0m",
            "\u001b[0;31mNameError\u001b[0m                                 Traceback (most recent call last)",
            "\u001b[0;32m<ipython-input-37-3e54e46fad23>\u001b[0m in \u001b[0;36m<cell line: 2>\u001b[0;34m()\u001b[0m\n\u001b[1;32m      1\u001b[0m \u001b[0mmy_string\u001b[0m \u001b[0;34m=\u001b[0m \u001b[0;34m\"Hello, world!\"\u001b[0m\u001b[0;34m\u001b[0m\u001b[0;34m\u001b[0m\u001b[0m\n\u001b[0;32m----> 2\u001b[0;31m \u001b[0mslicing\u001b[0m\u001b[0;34m(\u001b[0m\u001b[0mmy_string\u001b[0m\u001b[0;34m)\u001b[0m\u001b[0;34m\u001b[0m\u001b[0;34m\u001b[0m\u001b[0m\n\u001b[0m",
            "\u001b[0;31mNameError\u001b[0m: name 'slicing' is not defined"
          ]
        }
      ]
    },
    {
      "cell_type": "markdown",
      "source": [
        "##Q13. Create a list called **_numbers_**. Using the random.randint() function, add five random integers to it. Then, print the list. \n",
        "\n",
        "**Note:** You should not write the random number on your own. The code should take the random number and add it to your list."
      ],
      "metadata": {
        "id": "MkzTNSRBAGTM"
      }
    },
    {
      "cell_type": "code",
      "source": [
        "numbers = []\n",
        "random.randint(numbers)\n"
      ],
      "metadata": {
        "id": "eDwWJE0TAP0u",
        "colab": {
          "base_uri": "https://localhost:8080/",
          "height": 193
        },
        "outputId": "a49084bc-1f1b-461a-c2bc-1440b08701fd"
      },
      "execution_count": 90,
      "outputs": [
        {
          "output_type": "error",
          "ename": "NameError",
          "evalue": "ignored",
          "traceback": [
            "\u001b[0;31m---------------------------------------------------------------------------\u001b[0m",
            "\u001b[0;31mNameError\u001b[0m                                 Traceback (most recent call last)",
            "\u001b[0;32m<ipython-input-90-b3f7f689dfd2>\u001b[0m in \u001b[0;36m<cell line: 2>\u001b[0;34m()\u001b[0m\n\u001b[1;32m      1\u001b[0m \u001b[0mnumbers\u001b[0m \u001b[0;34m=\u001b[0m \u001b[0;34m[\u001b[0m\u001b[0;34m]\u001b[0m\u001b[0;34m\u001b[0m\u001b[0;34m\u001b[0m\u001b[0m\n\u001b[0;32m----> 2\u001b[0;31m \u001b[0mrandom\u001b[0m\u001b[0;34m.\u001b[0m\u001b[0mrandint\u001b[0m\u001b[0;34m(\u001b[0m\u001b[0mnumbers\u001b[0m\u001b[0;34m)\u001b[0m\u001b[0;34m\u001b[0m\u001b[0;34m\u001b[0m\u001b[0m\n\u001b[0m",
            "\u001b[0;31mNameError\u001b[0m: name 'random' is not defined"
          ]
        }
      ]
    },
    {
      "cell_type": "markdown",
      "source": [
        "##Q14. [1] Create a list of your favorite colors called **color_list** with at least three colors. [2] Use a **for loop** to iterate through the list and print each color."
      ],
      "metadata": {
        "id": "Bzfbrkc5A7KS"
      }
    },
    {
      "cell_type": "code",
      "source": [
        "color_list = []\n",
        "\n",
        "for in :"
      ],
      "metadata": {
        "id": "xAAf0Ez6BXII"
      },
      "execution_count": null,
      "outputs": []
    },
    {
      "cell_type": "markdown",
      "source": [
        "## Q15. Create a list of your favorite foods called **food_list** with at least three foods. Use a **for loop** to iterate through the list and print each food in uppercase letters."
      ],
      "metadata": {
        "id": "PBeXyJjdBXjq"
      }
    },
    {
      "cell_type": "code",
      "source": [
        "food_list = []\n",
        "\n",
        "for"
      ],
      "metadata": {
        "id": "x7Ci5q0pBkui"
      },
      "execution_count": null,
      "outputs": []
    },
    {
      "cell_type": "markdown",
      "source": [
        "##Q16.Create a list of your favorite animals called **animal_list** with at least three animals. Use a **for loop** to iterate through the list and print each animal, along with a message saying \"I love [animal]!\"\n",
        "\n"
      ],
      "metadata": {
        "id": "2l_4Ae3uBnQ0"
      }
    },
    {
      "cell_type": "code",
      "source": [
        "animal_list = []\n",
        "\n",
        "for\n"
      ],
      "metadata": {
        "id": "RWBlkXMqB6py"
      },
      "execution_count": null,
      "outputs": []
    },
    {
      "cell_type": "markdown",
      "source": [
        "##Q17. The following code should create a list of numbers from 1 to 5 and print the sum of the numbers, but there is an error. Identify and fix the error so that the code runs with no error.\n",
        "\n"
      ],
      "metadata": {
        "id": "YzWHkQmPCr4p"
      }
    },
    {
      "cell_type": "code",
      "source": [
        "my_list = [1, 2, 3, 4, 5]\n",
        "total = sum(my_list)\n",
        "print(\"The sum is: \" + total)"
      ],
      "metadata": {
        "id": "wKMgVa5FDmdm",
        "outputId": "3702725f-b9c2-42b9-c5b1-4183cefbd0c8",
        "colab": {
          "base_uri": "https://localhost:8080/",
          "height": 211
        }
      },
      "execution_count": 101,
      "outputs": [
        {
          "output_type": "error",
          "ename": "TypeError",
          "evalue": "ignored",
          "traceback": [
            "\u001b[0;31m---------------------------------------------------------------------------\u001b[0m",
            "\u001b[0;31mTypeError\u001b[0m                                 Traceback (most recent call last)",
            "\u001b[0;32m<ipython-input-101-0d8e3fbaa8e1>\u001b[0m in \u001b[0;36m<cell line: 3>\u001b[0;34m()\u001b[0m\n\u001b[1;32m      1\u001b[0m \u001b[0mmy_list\u001b[0m \u001b[0;34m=\u001b[0m \u001b[0;34m[\u001b[0m\u001b[0;36m1\u001b[0m\u001b[0;34m,\u001b[0m \u001b[0;36m2\u001b[0m\u001b[0;34m,\u001b[0m \u001b[0;36m3\u001b[0m\u001b[0;34m,\u001b[0m \u001b[0;36m4\u001b[0m\u001b[0;34m,\u001b[0m \u001b[0;36m5\u001b[0m\u001b[0;34m]\u001b[0m\u001b[0;34m\u001b[0m\u001b[0;34m\u001b[0m\u001b[0m\n\u001b[1;32m      2\u001b[0m \u001b[0mtotal\u001b[0m \u001b[0;34m=\u001b[0m \u001b[0msum\u001b[0m\u001b[0;34m(\u001b[0m\u001b[0mmy_list\u001b[0m\u001b[0;34m)\u001b[0m\u001b[0;34m\u001b[0m\u001b[0;34m\u001b[0m\u001b[0m\n\u001b[0;32m----> 3\u001b[0;31m \u001b[0mprint\u001b[0m\u001b[0;34m(\u001b[0m\u001b[0;34m\"The sum is: \"\u001b[0m \u001b[0;34m+\u001b[0m \u001b[0mtotal\u001b[0m\u001b[0;34m)\u001b[0m\u001b[0;34m\u001b[0m\u001b[0;34m\u001b[0m\u001b[0m\n\u001b[0m",
            "\u001b[0;31mTypeError\u001b[0m: can only concatenate str (not \"int\") to str"
          ]
        }
      ]
    },
    {
      "cell_type": "markdown",
      "source": [
        "##Q18. The following code should create a dictionary of fruit names and their corresponding colors, and then print the color of the fruit \"banana\", but there is an error. Identify and fix the error so that the code runs with no error."
      ],
      "metadata": {
        "id": "pMFKmV7YD1dA"
      }
    },
    {
      "cell_type": "code",
      "source": [
        "fruit_dict = {'apple': 'red', 'banana': 'yellow', 'orange': 'orange'}\n",
        "print(fruit_dict['banana'])"
      ],
      "metadata": {
        "id": "NCluyxSSD4QU",
        "outputId": "74dd0298-691b-40ad-daf1-cc8d727c6785",
        "colab": {
          "base_uri": "https://localhost:8080/",
          "height": 0
        }
      },
      "execution_count": 40,
      "outputs": [
        {
          "output_type": "stream",
          "name": "stdout",
          "text": [
            "yellow\n"
          ]
        }
      ]
    },
    {
      "cell_type": "markdown",
      "source": [
        "## Q19. Read the code below and identify the error. Then, fix the error so that the program outputs the fourth item (i.e., 'grape') in the list."
      ],
      "metadata": {
        "id": "89SBCwZH2AmN"
      }
    },
    {
      "cell_type": "code",
      "source": [
        "fruit = [\"apple\", \"banana\", \"orange\", \"grape\"]\n",
        "print(fruit[3])"
      ],
      "metadata": {
        "id": "QFkH3Crf1_-c",
        "outputId": "9efb68e3-3466-4279-d4cc-2831d848ed47",
        "colab": {
          "base_uri": "https://localhost:8080/",
          "height": 0
        }
      },
      "execution_count": 50,
      "outputs": [
        {
          "output_type": "stream",
          "name": "stdout",
          "text": [
            "grape\n"
          ]
        }
      ]
    },
    {
      "cell_type": "markdown",
      "source": [
        "##Q19. The following code should create a string containing the words \"apple\", \"banana\", and \"orange\" separated by commas. Split the string into a list of the individual words, so that the output becomes [\"apple\", \"banana\", \"orange\"] and not [\"apple,banana,orange\"]."
      ],
      "metadata": {
        "id": "cqhaBl5yD_Zb"
      }
    },
    {
      "cell_type": "code",
      "source": [
        "my_string = '\"apple\", \"banana\", \"orange\"'\n",
        "my_list = my_string.split(\",\")\n",
        "print(my_list)"
      ],
      "metadata": {
        "id": "SsjNp-jUEC3t",
        "outputId": "7f1dcb24-29fc-437e-912a-7bf16da4d86a",
        "colab": {
          "base_uri": "https://localhost:8080/",
          "height": 0
        }
      },
      "execution_count": 82,
      "outputs": [
        {
          "output_type": "stream",
          "name": "stdout",
          "text": [
            "['\"apple\"', '\"banana\"', '\"orange\"']\n"
          ]
        }
      ]
    },
    {
      "cell_type": "markdown",
      "source": [
        "##Q20. Create a language application that changes a declarative sentence to an imperative sentence. Test the app with the following sentences: \n",
        "\n",
        "1. \"You take your seat.\" > (output) Take your seat!\n",
        "2. \"You bring your book.\" > (output) Bring your book!\n",
        "\n",
        "+ Step1. Start with the first sentence, and add code lines in order to get the output ('Take your seat!')\n",
        "+ Step2. Make another code cell and make a user interactive app using input(). Here you should be able to get the output of the second sentence when the user type the second sentence."
      ],
      "metadata": {
        "id": "uHHgSSliE8o8"
      }
    },
    {
      "cell_type": "code",
      "source": [
        "s = \"You take your seat.\"\n",
        "l1 = s.split(' ')\n",
        "s1 = l1[0]\n",
        "s2 = l1[1]\n",
        "s3 = l1[2]\n",
        "s4 = l1[3]\n",
        "\n"
      ],
      "metadata": {
        "id": "rQlNj2QqFlT_",
        "outputId": "1024dff0-bd67-44f8-bc5c-6a20d19fa8e8",
        "colab": {
          "base_uri": "https://localhost:8080/",
          "height": 137
        }
      },
      "execution_count": 99,
      "outputs": [
        {
          "output_type": "error",
          "ename": "SyntaxError",
          "evalue": "ignored",
          "traceback": [
            "\u001b[0;36m  File \u001b[0;32m\"<ipython-input-99-ef47a474e877>\"\u001b[0;36m, line \u001b[0;32m8\u001b[0m\n\u001b[0;31m    n = upper.(s2[0])\u001b[0m\n\u001b[0m              ^\u001b[0m\n\u001b[0;31mSyntaxError\u001b[0m\u001b[0;31m:\u001b[0m invalid syntax\n"
          ]
        }
      ]
    },
    {
      "cell_type": "code",
      "source": [
        "s = input()\n",
        "\n",
        "\n",
        "\n"
      ],
      "metadata": {
        "colab": {
          "base_uri": "https://localhost:8080/"
        },
        "id": "OPX8_wf8ywIJ",
        "outputId": "af662415-3aa7-4907-8673-d35e22576246"
      },
      "execution_count": null,
      "outputs": [
        {
          "output_type": "stream",
          "name": "stdout",
          "text": [
            "Bring your book!\n"
          ]
        }
      ]
    },
    {
      "cell_type": "markdown",
      "source": [
        "---\n",
        "# 📌Submission: 2 submissions\n",
        "\n",
        "[1] pdf submission (File > Print > pdf print), save pdf on the desktop, get it ready to upload your file to the google form below. \n",
        "+ File name: dl230503_yourid.pdf\n",
        "\n",
        "[2] Save this file in your github repository. \n",
        "+ File name: dl230503_yourid.ipynb"
      ],
      "metadata": {
        "id": "Pr37pv-b2wu-"
      }
    },
    {
      "cell_type": "markdown",
      "source": [
        "# 🌀 **Part II: Using a Google form (30 questions, 30 points)**\n",
        "\n",
        "[Click here to start](https://forms.gle/eidnsEzd4VkRXC4i7)\n"
      ],
      "metadata": {
        "id": "y8Uj1W9w4p-f"
      }
    }
  ]
}