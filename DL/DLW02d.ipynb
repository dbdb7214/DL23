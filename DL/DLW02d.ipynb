{
  "nbformat": 4,
  "nbformat_minor": 0,
  "metadata": {
    "colab": {
      "provenance": [],
      "include_colab_link": true
    },
    "kernelspec": {
      "name": "python3",
      "display_name": "Python 3"
    },
    "language_info": {
      "name": "python"
    }
  },
  "cells": [
    {
      "cell_type": "markdown",
      "metadata": {
        "id": "view-in-github",
        "colab_type": "text"
      },
      "source": [
        "<a href=\"https://colab.research.google.com/github/dbdb7214/DL23/blob/main/DL/DLW02d.ipynb\" target=\"_parent\"><img src=\"https://colab.research.google.com/assets/colab-badge.svg\" alt=\"Open In Colab\"/></a>"
      ]
    },
    {
      "cell_type": "markdown",
      "source": [
        "---\n",
        "# 📗 Topic [2]: Coding basic #2\n",
        "---\n",
        "Keywords:\n",
        "\n",
        "+ variables\n",
        "+ **operators**\n",
        "+ **data types: list and dictionary**"
      ],
      "metadata": {
        "id": "k4A5_MYHpcNQ"
      }
    },
    {
      "cell_type": "markdown",
      "source": [
        "Your github IDs [here](https://docs.google.com/spreadsheets/d/17SX51lCqOdtvC7cAGoX5tP9fKwVdGY5sRzMg2pXh9uk/edit#gid=0) - revised 0327"
      ],
      "metadata": {
        "id": "mUVgzk50XMkt"
      }
    },
    {
      "cell_type": "markdown",
      "source": [
        "## [1] Variables"
      ],
      "metadata": {
        "id": "93gQaEo1RX63"
      }
    },
    {
      "cell_type": "markdown",
      "source": [
        "+ **A variable** is a named storage location that holds a value.\n",
        "+ Variables can be used **to store values** such as numbers, strings, lists, or other data types. \n",
        "+ The value of a variable can change throughout the execution of a program. \n",
        "+ To declare a variable in Python, you need to assign a value to it using the **equal (=) sign.**"
      ],
      "metadata": {
        "id": "jJT4hD1teuJr"
      }
    },
    {
      "cell_type": "code",
      "source": [
        "x = 10\n",
        "y = \"Hello, class!\"\n",
        "z = [1, 2, 3]"
      ],
      "metadata": {
        "id": "Xes87bY2X45M"
      },
      "execution_count": 6,
      "outputs": []
    },
    {
      "cell_type": "markdown",
      "source": [
        "↗️ In the above example, 'x' is assigned the value of 10, 'y' is assigned the value of \"Hello, World!\", and 'z' is assigned the value of [1, 2, 3]."
      ],
      "metadata": {
        "id": "ulw6QsP5ZiKp"
      }
    },
    {
      "cell_type": "code",
      "source": [
        "# We can assign a link or a function\n",
        "import pandas as pd\n",
        "url = \"https://github.com/MK316/Spring2023/raw/main/data/att_sample.csv\"\n",
        "data = pd.read_csv(url)\n",
        "data"
      ],
      "metadata": {
        "id": "_7bvpJt2aQmg"
      },
      "execution_count": null,
      "outputs": []
    },
    {
      "cell_type": "markdown",
      "source": [
        "여기서는 url이 변수임."
      ],
      "metadata": {
        "id": "PoMvfem1IKby"
      }
    },
    {
      "cell_type": "markdown",
      "source": [
        "## Commenting '#' 인간이 알아듣는 언어\n",
        "\n",
        "- In Python, the # symbol is used to indicate comment lines. A comment is a line of text in a code that is ignored by the Python interpreter and is used to provide explanations or notes for the reader of the code.\n",
        "\n",
        "## Uncommenting shortcut: \n",
        "* \"Ctrl + /\" (Place the cursor on the code line and press the Control + / key.)"
      ],
      "metadata": {
        "id": "xZv9R8I8ZWvt"
      }
    },
    {
      "cell_type": "code",
      "source": [
        "# This is a comment in Python\n",
        "x = 10 # this is also a comment 이런식으로 어쩌구 저쩌구 쓰는 건가?"
      ],
      "metadata": {
        "id": "7UJmbmmTaFx9"
      },
      "execution_count": 2,
      "outputs": []
    },
    {
      "cell_type": "code",
      "source": [
        "x1 = x * 10\n",
        "x2 = x + 5\n",
        "\n",
        "#print(x1) # Print the value of x1\n",
        "# print(x1, x2) # Print the values of x1 and x2"
      ],
      "metadata": {
        "id": "Ivc72tB0X_TS",
        "outputId": "0eaa2a66-553d-4ffc-8abc-0db9f5c85f73",
        "colab": {
          "base_uri": "https://localhost:8080/"
        }
      },
      "execution_count": 5,
      "outputs": [
        {
          "output_type": "stream",
          "name": "stdout",
          "text": [
            "100 15\n"
          ]
        }
      ]
    },
    {
      "cell_type": "markdown",
      "source": [
        "print를 써야 결과값이 두 개 다 나옴. 쓰지 않으면 맨 아래에 있는 값만 나옴. 앞에 #을 붙이면 인간의 언어로 인식하기 때문에 값이 안 나옴. 단축키: ctrl + /"
      ],
      "metadata": {
        "id": "3wRBbXAYJGXa"
      }
    },
    {
      "cell_type": "code",
      "source": [
        "print(y)\n",
        "y1 = y + \"Welcome to the class.\"\n",
        "z1 = z + [3,2,1]\n",
        " \n",
        "print(y1, z1)"
      ],
      "metadata": {
        "id": "cxePqv-52RU0",
        "outputId": "2735535d-0dfb-4264-9366-081dde9c3585",
        "colab": {
          "base_uri": "https://localhost:8080/"
        }
      },
      "execution_count": 7,
      "outputs": [
        {
          "output_type": "stream",
          "name": "stdout",
          "text": [
            "Hello, class!\n",
            "Hello, class!Welcome to the class. [1, 2, 3, 3, 2, 1]\n"
          ]
        }
      ]
    },
    {
      "cell_type": "markdown",
      "source": [
        "Input types:\n",
        "\n",
        "* integer: e.g., -3, 1, 0, 234, etc.\n",
        "* float: e.g., -3.0, 1.2, 0, 3.141592653589793238, etc.\n",
        "* string: (characters) \"1\", '0', \"3.29\", \"Mary\", \"euphoria\", 'My name is Jane.'\n",
        "\n",
        "_Note:_ double or single quotation marks denote **string** data. (Open and close should match.)"
      ],
      "metadata": {
        "id": "4zDbyBHbeQsq"
      }
    },
    {
      "cell_type": "code",
      "source": [
        "# DIY\n",
        "x = 1\n",
        "y = 3\n",
        "z = x + y\n",
        "print(z)\n",
        "\n",
        "x1 = \"1\"\n",
        "y1 = \"3\"\n",
        "z1 = x1 + y1\n",
        "print(z1)"
      ],
      "metadata": {
        "colab": {
          "base_uri": "https://localhost:8080/"
        },
        "id": "yzZuC29QfP3T",
        "outputId": "e28ad3d7-4599-42a6-9093-80a04a0a0fca"
      },
      "execution_count": 8,
      "outputs": [
        {
          "output_type": "stream",
          "name": "stdout",
          "text": [
            "4\n",
            "13\n"
          ]
        }
      ]
    },
    {
      "cell_type": "markdown",
      "source": [
        "\" \" 가 있으면 문자로 인식함함"
      ],
      "metadata": {
        "id": "MJvFdZ-QK9i7"
      }
    },
    {
      "cell_type": "code",
      "source": [
        "type(z)"
      ],
      "metadata": {
        "colab": {
          "base_uri": "https://localhost:8080/"
        },
        "id": "qwDb8cf5fkKi",
        "outputId": "446f189d-ea44-4300-8669-89432f4b6d3f"
      },
      "execution_count": 9,
      "outputs": [
        {
          "output_type": "execute_result",
          "data": {
            "text/plain": [
              "int"
            ]
          },
          "metadata": {},
          "execution_count": 9
        }
      ]
    },
    {
      "cell_type": "code",
      "source": [
        "type(z1)"
      ],
      "metadata": {
        "colab": {
          "base_uri": "https://localhost:8080/"
        },
        "id": "L7sxvSaOfsOt",
        "outputId": "e7806433-8999-4536-c9f1-d8380baa656a"
      },
      "execution_count": 10,
      "outputs": [
        {
          "output_type": "execute_result",
          "data": {
            "text/plain": [
              "str"
            ]
          },
          "metadata": {},
          "execution_count": 10
        }
      ]
    },
    {
      "cell_type": "code",
      "source": [
        "print(type(z), type(z1))"
      ],
      "metadata": {
        "colab": {
          "base_uri": "https://localhost:8080/"
        },
        "id": "bbFaL_GWfwMH",
        "outputId": "b101184a-4a31-4d7c-f17a-9a12df85ffc0"
      },
      "execution_count": 11,
      "outputs": [
        {
          "output_type": "stream",
          "name": "stdout",
          "text": [
            "<class 'int'> <class 'str'>\n"
          ]
        }
      ]
    },
    {
      "cell_type": "markdown",
      "source": [
        "## [2] Operators\n",
        "\n",
        "* Symbols that perform operations on values and variables. \n",
        "* They are used to perform arithmetic and logical operations, and they can also be used to manipulate and compare values. "
      ],
      "metadata": {
        "id": "5JgA2T2dRft5"
      }
    },
    {
      "cell_type": "markdown",
      "source": [
        "1. Arithmetic Operators: +, -, *, /, %, ** (for exponentiation)\n",
        "2. semicolon ';' - separate multiple statements (code lines) on a single line."
      ],
      "metadata": {
        "id": "NJBgu_O4bczL"
      }
    },
    {
      "cell_type": "code",
      "source": [
        "x = 2; y = 5\n",
        "\n",
        "a1 = x + y\n",
        "a2 = x - y\n",
        "a3 = x * y\n",
        "a4 = x / y\n",
        "a5 = x ** y"
      ],
      "metadata": {
        "id": "dXT3pIzobUHU"
      },
      "execution_count": 12,
      "outputs": []
    },
    {
      "cell_type": "code",
      "source": [
        "print(a1, a2, a3, a4, a5)"
      ],
      "metadata": {
        "colab": {
          "base_uri": "https://localhost:8080/"
        },
        "id": "_m3JBsOKd6Uv",
        "outputId": "02ea9761-e833-4e64-91df-5af8b4a3d932"
      },
      "execution_count": 13,
      "outputs": [
        {
          "output_type": "stream",
          "name": "stdout",
          "text": [
            "7 -3 10 0.4 32\n"
          ]
        }
      ]
    },
    {
      "cell_type": "markdown",
      "source": [
        ",로 여러 개의 변수 입력 가능"
      ],
      "metadata": {
        "id": "3lQF4vw8LdPS"
      }
    },
    {
      "cell_type": "code",
      "source": [
        "print(\"The value of a1:\", a1)"
      ],
      "metadata": {
        "colab": {
          "base_uri": "https://localhost:8080/"
        },
        "id": "5kq7I3nMd0Xi",
        "outputId": "ea2c3d32-e465-4853-e294-39225cc0e29e"
      },
      "execution_count": 14,
      "outputs": [
        {
          "output_type": "stream",
          "name": "stdout",
          "text": [
            "The value of a1: 7\n"
          ]
        }
      ]
    },
    {
      "cell_type": "markdown",
      "source": [
        "# 🌱 Define a function\n",
        "\n",
        "Demo 🔢 Calculator"
      ],
      "metadata": {
        "id": "Cx1NyWUAybc8"
      }
    },
    {
      "cell_type": "code",
      "source": [
        "# This function adds two numbers\n",
        "def add(x, y):\n",
        "    return x + y\n",
        "\n",
        "# This function subtracts two numbers\n",
        "def subtract(x, y):\n",
        "    return x - y\n",
        "\n",
        "# This function multiplies two numbers\n",
        "def multiply(x, y):\n",
        "    return x * y\n",
        "\n",
        "# This function divides two numbers\n",
        "def divide(x, y):\n",
        "    return x / y\n"
      ],
      "metadata": {
        "id": "Dod3_zgYdsWe"
      },
      "execution_count": 15,
      "outputs": []
    },
    {
      "cell_type": "markdown",
      "source": [
        "콜론(:)은 약속하는 것것"
      ],
      "metadata": {
        "id": "_Wof-CRWMe6r"
      }
    },
    {
      "cell_type": "code",
      "source": [
        "# DIY: define a function names switch(x, y), where the input x, y changes its position in the output."
      ],
      "metadata": {
        "id": "W9CuAaqXgwb5"
      },
      "execution_count": 16,
      "outputs": []
    },
    {
      "cell_type": "code",
      "source": [
        "add(1200, 34)"
      ],
      "metadata": {
        "id": "LTP59oeSMxLb",
        "outputId": "e12dde4e-a677-4f11-c5ad-403b8ea62ba0",
        "colab": {
          "base_uri": "https://localhost:8080/"
        }
      },
      "execution_count": 17,
      "outputs": [
        {
          "output_type": "execute_result",
          "data": {
            "text/plain": [
              "1234"
            ]
          },
          "metadata": {},
          "execution_count": 17
        }
      ]
    },
    {
      "cell_type": "code",
      "source": [
        "divide(1200, 34)"
      ],
      "metadata": {
        "id": "xk7cbs32M12D",
        "outputId": "66026e1e-c0f9-4a12-9d95-842af9520313",
        "colab": {
          "base_uri": "https://localhost:8080/"
        }
      },
      "execution_count": 18,
      "outputs": [
        {
          "output_type": "execute_result",
          "data": {
            "text/plain": [
              "35.294117647058826"
            ]
          },
          "metadata": {},
          "execution_count": 18
        }
      ]
    },
    {
      "cell_type": "code",
      "source": [
        "multiply(7, 24)"
      ],
      "metadata": {
        "id": "iMxMXHk1NA7z",
        "outputId": "e1651e80-f20e-428c-c5a0-e88b0ff56f5a",
        "colab": {
          "base_uri": "https://localhost:8080/"
        }
      },
      "execution_count": 19,
      "outputs": [
        {
          "output_type": "execute_result",
          "data": {
            "text/plain": [
              "168"
            ]
          },
          "metadata": {},
          "execution_count": 19
        }
      ]
    },
    {
      "cell_type": "code",
      "source": [
        "# Test\n",
        "add(2,3)\n",
        "subtract(3,2)\n",
        "# multiply(2,3)\n",
        "# divide(3,2)"
      ],
      "metadata": {
        "id": "IoHh-U2GBsqH",
        "outputId": "74a25baf-0939-48b7-9bba-101ef8c12f1d",
        "colab": {
          "base_uri": "https://localhost:8080/"
        }
      },
      "execution_count": 24,
      "outputs": [
        {
          "output_type": "execute_result",
          "data": {
            "text/plain": [
              "1"
            ]
          },
          "metadata": {},
          "execution_count": 24
        }
      ]
    },
    {
      "cell_type": "code",
      "source": [
        "# Test\n",
        "\n",
        "print(add(2,3))\n",
        "subtract(3,2)\n",
        "# multiply(2,3)\n",
        "# divide(3,2)"
      ],
      "metadata": {
        "id": "YWwY1H0JNhOy",
        "outputId": "2911c6d5-08d0-440d-95de-40d082f4a937",
        "colab": {
          "base_uri": "https://localhost:8080/"
        }
      },
      "execution_count": 25,
      "outputs": [
        {
          "output_type": "stream",
          "name": "stdout",
          "text": [
            "5\n"
          ]
        },
        {
          "output_type": "execute_result",
          "data": {
            "text/plain": [
              "1"
            ]
          },
          "metadata": {},
          "execution_count": 25
        }
      ]
    },
    {
      "cell_type": "markdown",
      "source": [
        "ctrl + enter 은 실행 런런"
      ],
      "metadata": {
        "id": "Aur4J5APNPPz"
      }
    },
    {
      "cell_type": "markdown",
      "source": [
        "## Using dropbox format"
      ],
      "metadata": {
        "id": "eOluPoNqCCE1"
      }
    },
    {
      "cell_type": "code",
      "source": [
        "!pip install gTTS\n",
        "from gtts import gTTS\n",
        "from IPython.display import Audio"
      ],
      "metadata": {
        "id": "-zrQ6ccJNuQT",
        "outputId": "edef5e7d-f619-43df-fa74-7727957ab1b5",
        "colab": {
          "base_uri": "https://localhost:8080/"
        }
      },
      "execution_count": 26,
      "outputs": [
        {
          "output_type": "stream",
          "name": "stdout",
          "text": [
            "Looking in indexes: https://pypi.org/simple, https://us-python.pkg.dev/colab-wheels/public/simple/\n",
            "Collecting gTTS\n",
            "  Downloading gTTS-2.3.1-py3-none-any.whl (28 kB)\n",
            "Requirement already satisfied: click<8.2,>=7.1 in /usr/local/lib/python3.9/dist-packages (from gTTS) (8.1.3)\n",
            "Requirement already satisfied: requests<3,>=2.27 in /usr/local/lib/python3.9/dist-packages (from gTTS) (2.27.1)\n",
            "Requirement already satisfied: urllib3<1.27,>=1.21.1 in /usr/local/lib/python3.9/dist-packages (from requests<3,>=2.27->gTTS) (1.26.15)\n",
            "Requirement already satisfied: charset-normalizer~=2.0.0 in /usr/local/lib/python3.9/dist-packages (from requests<3,>=2.27->gTTS) (2.0.12)\n",
            "Requirement already satisfied: certifi>=2017.4.17 in /usr/local/lib/python3.9/dist-packages (from requests<3,>=2.27->gTTS) (2022.12.7)\n",
            "Requirement already satisfied: idna<4,>=2.5 in /usr/local/lib/python3.9/dist-packages (from requests<3,>=2.27->gTTS) (3.4)\n",
            "Installing collected packages: gTTS\n",
            "Successfully installed gTTS-2.3.1\n"
          ]
        }
      ]
    },
    {
      "cell_type": "code",
      "source": [
        "from gtts import gTTS\n",
        "from IPython.display import Audio"
      ],
      "metadata": {
        "id": "SSMdhT2VOTN8"
      },
      "execution_count": 29,
      "outputs": []
    },
    {
      "cell_type": "code",
      "source": [
        "def tts(text):\n",
        "  gtts_object = gTTS(text,lang = \"en\", slow = True) \n",
        "  gtts_object.save(\"myaudio.mp3\")\n",
        "  return Audio(\"myaudio.mp3\")"
      ],
      "metadata": {
        "id": "UHr_1K37OY_8"
      },
      "execution_count": 30,
      "outputs": []
    },
    {
      "cell_type": "code",
      "source": [
        "func = \"subtract\" #@param = [\"add\",\"subtract\",\"multiply\",\"divide\"]\n",
        "digits = input(\"Type two numbers: (e.g., 3,4)\")\n",
        "digitsplit = digits.split(',')\n",
        "d1 = int(digitsplit[0])\n",
        "d2 = int(digitsplit[1])\n",
        "\n",
        "if func == \"add\":\n",
        "  result = add(d1,d2)\n",
        "  text = \"The addition of %d and %d equals %d.\"%(d1,d2,result)\n",
        "elif func == \"subtract\":\n",
        "  result = subtract(d1,d2)\n",
        "  text = \"If you subtract %d from %d, you get %d.\"%(d2,d1,result)\n",
        "elif func == \"divide\":\n",
        "  result = divide(d1,d2)\n",
        "  text = \"When you divide %d by %d, you get %d.\"%(d1,d2,result)\n",
        "elif func == \"multiply\":\n",
        "  result = multiply(d1,d2)\n",
        "  text = \"%d multiplied by %d is %d.\"%(d1,d2,result)\n",
        "\n",
        "print(text)\n",
        "tts(text)\n",
        "Audio(\"myaudio.mp3\")"
      ],
      "metadata": {
        "cellView": "form",
        "id": "FT47bY6qBo3k",
        "outputId": "654f4667-f085-470f-9193-561441ab98f2",
        "colab": {
          "base_uri": "https://localhost:8080/",
          "height": 111
        }
      },
      "execution_count": 32,
      "outputs": [
        {
          "output_type": "stream",
          "name": "stdout",
          "text": [
            "Type two numbers: (e.g., 3,4)24, 7\n",
            "If you subtract 7 from 24, you get 17.\n"
          ]
        },
        {
          "output_type": "execute_result",
          "data": {
            "text/plain": [
              "<IPython.lib.display.Audio object>"
            ],
            "text/html": [
              "\n",
              "                <audio  controls=\"controls\" >\n",
              "                    <source src=\"data:audio/mpeg;base64,//NExAARkrXUAUIQADnAxbkABEIIJ///+Spz/9TugGd0I3yNOd0AwM55CNIQjVO85/1IQmc+c53yN/5CEbO85/5znyEZQhG/+QjHACAMH3/PlAQV/2Jxc3YMzLv/t3jo//NExAwVayJcAZpoAaMDKP/PNBOv/ty+U/8l3TO/33ZN//5mUxhAJeJYWf3/EoHuYGCJul/9v2L5WTiUSMzYp////smdc0MDRPQf/////XrdS6BgiQByltWMvUFwJQNe//NExAkUeZacAdpAADUUUuMtABUxn4QAcZw6P8N4c/P8OaiO6v+////+b+CDJHDAbiUFBFnosSLnsOLIIMQceYlXxxNVUuiQZA0gJzgJyHpf////+xGj/UqKoUMmRGiR//NExAoUwe6gANKamGhSsUaWWya5EwTfQ3lDbTx3z/M9fN54/MdA6HckRhTg7w2650rNksvkqtkzM8rnup3ecNWsmWzd1Hr7+vWxxxUo/9P/76f1CWmz/Mk3RrZOuOn0//NExAoUwe6kANHamCt4x5N1qtSCRMbuCb8X9Ro3MflX483Hm1Gp61GoOgeCMnlg53ZY0XWmPUvossmGmpE0Quk96S06zg83u6L9+r1nth/8cr///gftnKDUTwNxnqZT//NExAoVKYqgANISlHEU4/JiVUcToQFRzOIYzrEMi70G18PfvFzbkrH6cdnYeFzxMsdDJZOlBUvaMYbat32P/jXvxh/5b61aYFKPSR9sRBURilnzv///WrNnJopkaizF//NExAgSQR6YAMBEcJrMEgVAsaKiCEMimphDxC/po7o17SEYMKQ05qsUswsKJEarU17ctWYRdeLhdoGCjTy1i6Q/fiyVr+7oB/ZpPtQPBPQbkWRiKqn/z3/MjiIpQdsh//NExBISAd6QADhGmRZG/0pnfVSRjgNn8qMhGxFSP+30vkksv6+8FL/R9nb7Md783ldY+by//t/SXxf7OUDYuTcmpBD9vzv+c+z/487NwAGOWgYnaECQ9xbO5ECRK2Xr//NExB0RiZKQABBGlZyK0bQj5XOCJVW6q4BebXmWUQ8fuR/+3xXfu7q3/r+53Y6N4WrSygdu1Ri+29Jicuv7/+vHc7mToRRsV+hvmTqYMTB3/oSfk5r6u+QIcGBAgscg//NExCkQkY6cABhGlCwAEAfWKsFUtYt9ZQlapEMn1aMY8ouxqIUVn885QI1nl6xlqUMAors3lF7MIAMRpOlf+/d/+fOZBCI3DgBXJc7IGoUlZtAyDFIcKVCUNgBynpRS//NExDkP6VacAMCGlLERUFt711KTY2ZUghOEQYjTv9gRPXOluWg/Fj1GB/qX7+i/W/t6Pl2yoA5VUMKmbj5PNPEdWeKCLIkslXJ58VPU09un9ajmq9Pq///xaqfeErES//NExEwRoeqcANNOmIfQbyQFLFFxv97ud2APLcXej9W6E3me/p4rzUKgO3nmZQCTW+yYe5smF0ebmtegdr3qRteSFutOv6d/Lv0JCZRvs///+iqpjWjpVUGhCw0+T8qW//NExFgSkeKgAMqWmJ0EjTZdj0Ax+N/J+K/HPQt0LdR5CZl4Wx7mYbbdE4MYRJ1x0N0EUuj51tRi1BMmzXI15aUfTafeUpEJYjxteZuoUIpx/HrqU/MgHfiHhj8Efh5+//NExGAQqZKgANHglC47iQZnQ6FCkXQtoedZgQnqMhnNzzHB5+n6fnH5zedPjQEb98t///6nf5SKdut0BAA1oCZiS9iWcHfnWGBMDwJtjzeOO+Uf8Kf6lmilXEDq7MFU//NExHASAYqYANFalObN9DAQVAoQOJu/obYfy69+oM5zSw//4z+PsduqpAYyzoZkzXlVkB1Pz9Zfje8tff//zKwFOKVKSVP/RGoKCjz5yZtMzMznbPTkcuba7HsPuSv9//NExHsQgQ6gANHGcImAwtLFFjP/K9evVqQJwZRIBAsn5boSEM/2mJVTKcnqyQpgQ1x5Dc4Hd5E+lJ8BgtUeSCYXxHOgaOiI4sPJdP2K+35weHj9451nmHLl7J/+u9v///NExIwgcxqcAMFYve+IEuwyqzS10/ump0d/1//7/ef93rqu8WhYzJJGpFrPmFLuFqJBu6jQHPUByTkdXM6RTrStJhVv1xN4MBmQ5YPxUvlWrjpPd8xPU+xkFcWIgDGY//NExF0g8yKcABCevKaS4dR8GipU6gaRySKo1hNW8oT3RMjeyp4uwkw9KvTauYXyUPxUUS///////8iuvr//ksiX///H///9f9Nmmw3q+eY4dbKRjNqjyV8cFDj6KBVK//NExCwXWyKoAAhWvCbNo+kgxIxKFTQuMB+WJxsOA8BokII3AelJwtJo7R5Mi82BHD2NFEsEEyKA3Ky8fkXqH////////////3/////6rbW3m3T1R7qV2sdOZkNWUJpy//NExCETUyKwAAhUvLGlSQ10FshJSQVh8PRweCseOj4qQEakZCMy4mFQrANCQLQmg3AsBeAvDEmJav+n////Y5E0X9HWiMqZ57Hnut2pU5DG7rZ1UueNjihNywpPFSCM//NExCYQcxasAAAOuURoRImkxcOC0VilVBA4eKBEKzBqACJIaBcKp1I///////8vP///zHL/////vpdKtpujfm0NqjozMbOPU9jzVmnHHllRj0MZ0VjDyxIfE4sIi0VH//NExDcRmyK0AAhOvAljxw2LHExEYYGQfjAaKpXx8XRByjjhQ04BqAaCRTcSG/vdAgiQpxDUr99Tgbqkja///5XX1////7UR///+jfzfyl/v0f6lapc1dSlapWQwp4vn//NExEMQgw64AHiEuf8nw1zJo9WbudYN8TqOwCGKL1eEoVWv9qybWerI1wmCYO49A9gHjtizpFNr9BZ07Gw7t0X8TUUxHenR/2Urzy3cVlTKmYbvPCejttzkBCNytG8K//NExFQPwS6wAMPWcIodGdfulW5n/4vDR4pBUw6IcdtQkZ+dwnzNN/80/xbX/rn+tdXxJmaPxQKvf/pKhIzX5HQqhz/zjACi261uJGHgM0VDA4kKDhVc0IuwLZw15CVI//NExGgSSTKsAMYecFb9kmXYnDhwXwBiQZMpESl7WiXfRT6k/UbutIyOnZ6rbvpc7/XDRGqOwiVPCj0fkeAQzV4QFkze/RotyanhEUZ0/tFHWGktccTtQro/dXO0hKGv//NExHERUR6kANPgcAnR7CxN7igCqQVDV9gKrTaFX/+mz/11MoCMDA+KjAABjtPXlgw2Lx4WJBpGnJpGTAiQWetAoC4r75X5fZhFsibOwTCzf6ZDJUYbAzm8Suskb12///NExH4QWKKIANZeTHf9SvWrb/////1qMjAh0KLACBRQRPJ08kAoV2FUUmxYof2TzMsh+m5ZuZbrcqZZtARCwwaBzsxeXDgCirHrhhqcxfRdd1OnyLR3/v+7o37E/66a//NExI8RmJpUAOaSTCoOjmMomSIEQwNMAkUECVNQELVw7Uae7B5ufRB8hYeAvJ0HCCcIpghjhYHjaVBsFhAI4upqWPNJnBqJzIdoQuDUMgyRw45Tyxho4kYWQNMJQcTV//NExJsSEH5QAVsYAHnkHUfMVKMUcKkqVU1axUtuYMmz0WUTFhtmkKc7Ki1DVTabw07V7b44h7+LZ1G0zWTICwuoXykoTisd3wM6G6Kkdt1FNa3PnLCdVCys426clf7z//NExKUiOuJMAZpAAEWQEYHS5BXf5IOEOQA6DwISQfimGVfj++R1oEIYUUAnA6EXfbGVb3wT3LlhNHYiCwgx0j509/+ypQOVDtg9UO6DJhgVlzK/l9/5xlLHNjJdHbKS//NExG8iAyZ4AZhYAE12saoq7/r9n//e7bEy+WNl3oxEP2s8rhbQxc5e9zwsm3jPeP73tEPcDT5fa534my6TLGCJWZGZSHsPktrPBuIwKAgFBhhgwXPB+hER3FBUsYRo//NExDoYOeaMAcZAAC9wpbonHpxFEIiJ1wfEnkBOAzQXA6ThAUGMgQn3cnRFsUOU2BEGFkP/zYkFG9end+H/qFZ7hP1D3UIQjsF9dhuSBMVleA4qSABM6KkIumHhKJjh//NExCwcuv6gABpWueKxtmFkzpubElYda5uggbpNO0952LSbD4r3PTfD3HUjtn3NfFzMRdv4bxNd33u/mOnVf9tr5Z/Gze9kr7Nluazqpc045AM1D/5XCKCEGWb/9iui//NExAwVUWasABFMlJBRzDiAg44pBiAGFrd4YooiCcBFhUIm6sOcgceRprRffuy9HcBFBCAVlmWvJDRKHw21r4aTS8bVrVKzIqAs25Rp1Syoknwqw0TVZ/7q8Orv/0uv//NExAkRkWasABHMlFnHExQPDARD41Gx4wsllSMbSrAOYe6MGlJo75n/d7xW6+ZvN9doqE1oWq3UdAj73kivou+7dDtqGHhWqSrVXTJSAMAAgFoljpxOhxiUAQ8YTm5L//NExBUQ8QKgAHsScFb9GIl79+XxzlojaNoXdbQflhpVAs2jYYSVWVZl//0jY0NWYmrdKrdqfsDXqXcprxnCstIeGI3WIxmNJuiTIL3bm2tlopgIO0/btWrTGYfo8pTF//NExCQSgOqgAM5wcFpTuXuxGBWdKbvfKYAWDChlAHEndSRmbO5HP93SSjl/6Ff//T/pvd/Vd9CONJnnUixjrNQ7dtKLGVicobZ8eylNFH9+6+tU0UpInqiR9F490QF8//NExC0SeQKsAMZecAw4yciZTqEGmz4hPT9PYlio15YEc///SGBpD/8mUlrH4BXl96RRXKDrIElclh2CRBRGX8zqTcCp5U1Fz4k/Q4HDOWElImigcIC5ElMYkkCJizE0//NExDYScQ6wAI5ecKGOdaxlKfixEpB1GeBjb/rPlRpObqOgU4bXujMNPEgalW+CMh5sB2RXX4poo5IDKuu8hCcjrcJupiDDRHm577EdR+nHv1gp5P7ziErn6w81jEbI//NExD8SGRa0AI4ecCb1IP6fR9P5/TVXqCOG/JuiaV4cGy0m9VptZBmvDVXcv+dMSYGvd/SRAHij/vlfEYOOJiHe6cVf9cQSQredfUJSqyua+0Jz///n1nMNczq/Ep+s//NExEkSeT6wAIYecDZbdIPxAbB5Roj8BAZOT4fqq1Qx6k+O7zpokKsQq939wAZwzr21nAwgf7uv1K3HFNj4xBWGf/+p+vKY/3ibKnNb6gYyyak/qdWuX2TGcAbpogfT//NExFISMSawAI5ecNeAgSPKrzUAgmJMm5Wkc3KR1Sz9Y9pc9gsd48ORfSqCznxNtbR/nGbLWb6+NK0SIWe1cp36H6O7LdOp3/qRALWHj63fjbtlUSstJf7+Zfc7HVzY//NExFwQuQqwAI4ecMpdy0yJp1vWfgIw0ayjrJQCi5qmG2xLGWQtGYaqor2RE0rqrSZd8VO68kHfxFkVd2Q9+NzppEASNfh91Z4QBFkqBP3OV32gdDFrjBqtyhnQFAnL//NExGwR4SagAMYScM8dIRVsixNRETTKgSxMUw2NJEyrPisKptS3LQhmIv/O4NIzAAUZk7QcIiVVsoKu3yZrBosBts2nrVuVz5BMSeqcPmNtXOKImC54dxSuM4ScZyZ0//NExHcRaRZ4AVhIAFJMXJhgVFBNs61vaB84duw9l7ZNE4ZTGb+J1kuazhxM9GzdX+rDTjvc20DkF7YL///r+ame4nrysnkslnzEf3QiX3xf/PzMV/XPXxVcf0fqHv3r//NExIQh8ypMAZpYANOJCzpUwE+4n2t1ZIRIG6ynVaOcI8xPdWw/UtMjdA8TT6xxJzrJg7xiAOQ6g6wS2D6XmpIXSBPHgsOJrj8DJmwvMkKiac9ms+D0w/zjFPqJlnVx//NExE8h2yqAAY9YAPMvrj4qXscyJmJvY19sqv4nq3GsWebNvWs/uPpvedimJ2fQZU7//Xcw410zFP3fTLcdeeQQo3ba1RSA4Sjk1yg4t27+pi/u//8tTS6HfkVQUve1//NExBoZCxZ8AccwAWvKHvs3hvTa+NW6+Nj5G7ytf1WejPWd7+ZmNL3r/IfYZmfzn1y273uPZO/FVn7vPfcr/dquu937aLlECCRdFR99474ZksJ1Kz7HqgK1G/+T/3z9//NExAgTkw6QAChGuWZR5BImZkCQXoctER9L4X9LOX8j77ofOIT5o5zK7vVqPwgaE54xFo/yW0iRjdqZba2sROb2KhSoVBI7Mrh1FR0Jw4sxIwJqDj//v/yz/8H5AObm//NExAwTixqgABBKvVLAu//Rkf2pr67Eroj+rWZ+edCto0pEZ2cVORlMIEZXZUap1yDmWUTMmiup3RiOhBYQDgccBBwUBA+YLccA5Q4HBFUN////5f/++1+vl/0////v//NExBASEyKoABBOvFae/1fzdbWvWqJ2ZqaVRUd0Z1MMVz2IsQHHNOcwsdNIjwkEy44OIRNEYidNFoTjQJA2KBeD8Vkz1V///////n5////LX////+u62z02fdZm+7JZ//NExBoRqyKsAAhOvJVZGOVjmZDFYoYprmDp5hVzmIlT3Hy6E3IhccGpAoVLILBHUeEYuI4pGoUIOgX///////////+az///9u83/TNOqj9EvWhei1WhxxrkkHTDDLGm//NExCYSiyKkABBOvJAlEYKlh0VFxQVEpalTDEFJxg2C41HxWIgoYVkUG4llRSJI89UY/7n//Xr//n////5L///ptbr9O2i20fM7ezH3pbY04fdDKTjWNnFpFHJjQ8TF//NExC4RIx6kAAhOvJhoeVChY5hWLh8SRWIg3PFIjGsSB4NFA/9f/////1ov///KH////+81312n0zDKo9M2qtVD0pSPlp1zsoYxzmOND2EY05S5w1GpIPFBYamA9GSg//NExDwSox6oAAhOvbQ0JQ1EcIAyNQGA6HSQpQP/0///P///9///9/////70VN/Ttam6mo1UMtLkbsQIexk92ZDZqTippx55OXKnnsMULkhPHCFQpxAiAAqnQYGgxBWD//NExEQRYxqsABBUvUcFcpSiQEBErdIWA7IwNEWc2MvstN+lPcjXRXf/7f6ctn////09//p1/XL06Klr1mLZzMdmsUMFQyvDCgbQpYZUcKAohVEgKCgtKu48+aS2GsuS//NExFESGxK0AGCEuf7DUbFOnGMuWK4R9bYYhS5b1HIE7z9x+Rf+T0bMsdi3ZzYNIi1czby43Wn1Uz9FE4YOr/+28QKk8noqbrFMB0UTFICFrHoqa3gxU+BFmU/NWoEx//NExFsQkTqwAMZacP/OWv3f/x5HZXbBuDwc2EUBQHY//qGhz4eaGlcnX3wmdQZWk8MZPRq8kIBCFRzjpdLlVfWGIGyquLEHAk2VduDYQFsWZT93qDZRv8Pqxf/k2JJ+//NExGsSiTq0AJZWcDgdwvE7JsegHQ+M70Shb/W/a1xztQDk4aAFJnZlLbQ6JjHd9aqWY87ecITze+9hmz0TDTpn7rPi5AB3nmFqI9pq6tgcllGF/KSJqxLmfY8vBXVn//NExHMRCSa4AG4WcCr1Vh1NFwTue5Kn1Jf/V2sC1vQgFozuCQXkywwMHi0NuQy/MJevENPwjV8MMNv5iaeuTY6zWOz4oRlD1v///663e1jQIugBc1HOrEktTIWwFHh6//NExIEbcgagAM6QmCjIEkDEo82YmTMm7sTSmCCNklaphNA0CiusMqZI4u3A8xlQjAORIDBJBqXULXZVe/lWIiUdacscqOw5L3IDWcJkuWNjS27jbu+pplfD4quHS98U//NExGYfygKYANbWmKvQORZScfy+Wxz6LGuEZhhZJCj//+l7bBHVjt/6WRGCMG6hjyB168rLdBFg4qhnr7MmWKYAfnCRpjwBL7+7ZAGg4th2GalWuCQBm9F9M9A4Brkk//NExDkfGhKMANbWmFbfVxVbkTW97vt2Uw7rLPzYkDqYbU04TV1TQpOAOT52nbjbl27j6vv+Zib6t5NdLqqTWvdxffy7+9GlmCJ3///27rlKRpnp3JW0zuEW030qfaYI//NExA8UwRp4ANvWcEHHcVZEosyD/AXgEIT08Eu0OZbXTcwxFFDeoGY2lIpCZE1hI2VXr6a3/ROx3cNo2eSTrgakVfb8JBWsUV+S69n////qEgdblpBsx3MeI/QwS2yV//NExA8T0Sp0ANGGcMLTxXXGuUp9rIiry56u6FENYXlmwhMkV1u8whIRYuYs1ZdlZ9lZ9MEAfvagup0fLs8Tr79GqUL1ABx9jpQqwoNqg6nuKLmO6HrUDZWFGu+JJPY7//NExBIVES6QAM4ScOICAKDy1r0oq25pyIcllJi7D+Q5jXjZPWOIycgw4AQMEj1GZ1m19z1k9z43NdvWLhqUAKKl2WXfP7Gtev+lX///+iru6iqYWCb/VkxqAgliJAIH//NExBAWSS6kAM5YcHgeupa1gv43FnULXOyaGZTH4ejPMYxXpc2GXD0q2OTAuD+eIwZnxomPIaMOYzduax3meyktasmjUQ4EFr1di8EC6fpV9n////VV5+knyY3tPKw4//NExAkR4UKsAM5WcNuSQwJjlCXti1RrtTT1uNnzG1vCXw7y7K533nnZoec6HqlhChtoGi+xWM4i6KdM9tbnknPY9qbjor/4FV5GlfyoRGymbhRjp7NaILinq0WKUvhb//NExBQQ2N6oAMvScGbZ/ixO4DIhW8Nj3UCL9f+oRzaZubCJsVlgFd5tFwaBB6VREWBUydFQ04X/1f0dCsalGZoWydyB0iPTnmb4ykkEBS4vh1s1moV5XvDeT0Z8wxe1//NExCMSGUKYANPQcEb7Yyama3FVQTIUWC0PTRhzWY15/B63396pdtFKo4gY/7BT1nV1f6XswNDkVodoLMTiFpYy4zEwI3W7pdAzYEMIlBYHdFkhvyrUMBnSPncnD+ip//NExC0SoaqIANNOlDNXi7KjXChJyoiG2fK5QgawExqyL2///xxHu0e2tWCxphJgb60uGi9gmKscWIYC8J6ItPBD4Wh3BcLD88EvrLZrwqXwq/kLTVOxgRVkojq8K4+C//NExDUR+TaIANvQcIRCR5N3Dxt2ivIclkCF3/Ar+DwsAIysMd6wGKlSjLo79FezczK5A7BdPg2I9GcIKwXGUls6a/2q2sm6rGBSLkR3oDSZkVfx/q/AuyzfNTED6iBO//NExEASGTqAANPQcGCgr3vf/ipVNUeWCpkGtzBnQFTJ+GpvRe9SkRjxlAaQ6IPJZydpJnOiHR41ezywmZw9AIaBl1CDkHEPQwvqvxtRL+pFIcsPDOJBJy6/661oKAh///NExEoRcTJ8ANvGcE0lc3w1EKTGKKkwWGVgkHg29dCwurVySflak3HMswx2Brvr3OqBBAsGLCd40TvgBhNlTbRb+rOFHf3f///8YtUqYBYGTKA8YjquUJk0PfXSrZ+f//NExFcQ0OKAANJEcCNZ2+b3Lzu054jBdxJxXt0RYUE7EyEwJzcnChYYqEutYYlCLp+WZGpd4I9pn0Jd3n13c0TyHzQ+7P7tarBC9pYmfU5QqYGIB9IUM97cUUf/9v+7//NExGYW+h6AAGGGmNDXNNeKxRSGxQMsrDOAtTC4PDuSwICijv973v67rGouavePs/1bcw0+hwrbrmS8W8Af/cbO1u17z5RxlQVI9aXQ0IRe8h/kKLQl3PN4W9BH9cXX//NExF0RWA6IADDGATSxYIAEOicDjjClqEaD4TB9LHMJz6jE20o0AR2LVjro5vNOrr8Re8c1wwVWKM6yOcADgt0gshxgJguAuBAww11FjrghaFv3+NP2eQ5y/mmj2AuA//NExGoQ+PqUADiGcGAMHgQJECBOa+QY1SbeGBCkHRR94G6ZIiGtvXs2Y9Ff////+o7XhiXS57QPhHXJTsOZg4kVWrZNDrOimXtHxCDDA1y0rYHBGbS58FNF7v8/aEtQ//NExHkS+M6cAHvScOdZ9U70vhJsOFwC0kAzj+O4+t6JtztsRqQO/81djEYs1MAieD9+/7KWh+v+uMBFl2NYUUNxsYCJQdrG4Fyh8Dovyudeu5uOotUVqSs6l1GwBS3s//NExIAW8O6UAM6wcLGANZcV7ETCEih7iuG21ncrkl7CWUNjLG7LZmWyyX2cLBo26307CrAMLJWd3UC4QiYv3ZEJys/iwAIigorcdsQHFDPBTJvWUKvhFlt1DHscMzeQ//NExHcToPagAMZwcGaoj4/DivVg+vPY0ebAorHgpYsUxmMa3/y6WoqGYWGqilJOhU7BYYoU5pgI2Z4GF2AKLGSqwCpXlM60OWJUl+Xf/Ob/OUvFHq9Iv57B5ABJqLSU//NExHsR2XqcANPKlTsomr8U5SOdYzOTvssrG3Vh3/58iHUPTXmb3ARNoH4IPgggZwWcCACdQgFCjYn+H/Cz3wPf6SMbG15U6jIaA01mgg/bb0eP71Z3jAFpqDLmCcSF//NExIYSqPqEAN4YcCwmBJB2ion/6tVKkSaWIWlvDTCI2jZcoX/HCyEaQhCCoRALBuTDGbwtA1yDSYFfwgn9doJ3P6z8p0MqycWr4lv8d92/KszI5NFw4dnVPAb7Kf////NExI4ScWp4ANvOlP7////SXYtaHCEwkZsd2HwQKTXgLLlO6BQcJiaSWx9WnCXxhZ3a28ufW/LLcU/NHO7XL6l/MRL22s2S+NHaPutERjl8QJt/9P/oBAErY+QXfTnh//NExJcSOPp0AOaScJZgtoKC5gwGhcnAQAoA9IMhBu0rBV6x/rOc5iRXO9RjY0ONaTGiZUbDUCNxsNAcBkJEULDQdJDbB9231MoqUkByuMm6XFZonUvZMVeLUGGrFxc2//NExKERQTZ0AOaMcEV2GLMporV7fPxLBqJDwFRFKdW5oq4tZqnmNTZXq9saHfAoBXY0RLVBXDvd/PLtf///6RNUMIyR0MayZuVuRv4mAw6tSOBZSQnS2aLOJLFwD7FL//NExK8RkQJ4ANvGcKK3RQTeM+NMgA2k60mV45h0dgs8XGqzPU6b2EJx6E6CLhqwdj1tfUggyohQTyDY2BMFrFLjn1a/3SS8niCEGGYTIgUzcz//6v8yIIWy4xotNboK//NExLsSAP5sAVhAAP/V///2TPF9zNzRJBM8Zp2sAgzCTWbD95Ey+11X4G4+qb7mVcSd2TCBAVn3HJMFzYd5q4BulF6OHJcO5c6QZqwxPKk1pBZu5B8WQsoPBEkrUVQk//NExMYgqypkAZiAANy02fsn/qzc6cPrw1ZVS35Q9n/9//spts+Y6tktc/uYqf/////uK+tjIqr/p93CrnUtttcHhFnvpqLNFQo6U/EPjbVqISg4Gume4CxqRQdHDfFK//NExJYdwyqoAY9YALiiU0MHKY8jhpsqU1rQ6RZ6vWxuU0NZ65R5qFkgEHVKMgA3YDqBV1SLCxV073Nb3HlLg0aLUiEJB1JVSijmpH9s2tPV2t6ous7WN1xbAcj0PK8L//NExHIWmXKcAchAALB1hhXX8+SoX1s+ud332etb1v3WmKCGTI3ahwxTRu+ROS8yXYy/OsUVc9vZj4GMkj6h+7/9zlKI7v66aJCJW4YJadYpBJgRgQIHNIAoEFGCTaga//NExGoUYdaQAHsGmKd33YpIBWHD8lnYdqo401n12N1+J5mjUMWBsRC4iUaAr1AK6jeWW6e23Br4d//////6anAhVA8YACpqYaAIMpUNxJQ0abiZi0ZhGUeVSlnQe+Lz//NExGsSkLaEAMZYTI3w7cKGUHfqHYZVrcSl+r3pEFFgHwwiZIBufH0XYQjgf/X6yZsqBMO/8oMTPGg6uaaHjHQQnGw+VTjphSQOEU3izggw82JB4iJu3BLbpiP6/dJo//NExHMRwPKAAOYGcPAa7lEmnv1CP/U35pEmTeZ/HCoMGFvWBAQeUMXLn4W2gDW6K1KmNnKY1O5nxmQ99oWXeLBCS5qe+ZsgwZQtplenuz1+k59K/8v//pac/MR9B5Pk//NExH8R6OqYANZMcPU+cwEZlKpCMqkO7FKMK96ls//6WUNV3+c0lsHl3+fNiiw5d//6vFxKTe6CGmz3rW/eFQbdn9wywiHYfsfShgFg77KMTlRz3+p78iQx3WGm/2n///NExIoR4X6wAMYKlNfhinRWy/9R0t2ErUUNtYcQZBOlRqFPnTuyARo3n+qrSYR/67Kb3/AfRA37SIAEOo1hQ4COMb4s8dv9Je/3G0/uSfHtNWxKN3SthiKzUMoSjVjg//NExJURuYa0AM4QlOrGkAwOAnqEZUY84DMygLErd0YsXphiflv1KGdrcty7v5SUuMNzETyFmBVACR0layox1vH+LJWcl7CDST8VjdJZl7LDQwGZNfawnYYRATLB5EEc//NExKERKUasAM5WcDUCMxbcxU/fD+Yx+z7mw+v97P8dqQtkLJkyYQ+5GW0yToghlk0462E7kgsySciH5h7//94KmPxtCIQ8o0SW5RRDuetkUh78ReERKxhvnnf+3c36//NExK8RoPKIAN4ScZf7kWYppLhUKprrRZhUrx+FeiIoWYZbkZD7CR9yosOFAr+ef5f///+SfRWrzccC0h9HebuuwzfMyQVUM9QrTNqLLwhudv9+/u37+qr3lWa5IiL0//NExLsSWUakANLMcevHlI2yzwImaV7NEIsOILcLOOCoz/9Ahf///1Y1vYXFHQmdJmOKrgR45qlRzsYoR/XrDcd/O4Ovmlvm/zzTnp+d+qIUMUcdgfhEAKLULDIpHYvG//NExMQSGVKkAMnSlKNiQXBaoO6aWOAZJqv/R////3rVtTMeZybMCJMxdWwxquMyD91gEAaqK7R2KZRq1R4y0z343///O/sP/U4MTQKKFxMShUMpEYMxLGT6wmOsqgFi//NExM4RMVacANCMlNo78gETH6P8x//qgrjcwKceDa3XTJShYdf0DMwDAp+yIAOgFYVOe8o5opUapelZB/CjGEIsY5AkZWYEySpad65qJu4RRR+doyIZoj/v/+/b1R3D//NExNwSUTaYAMvOcNQsXKbnSdxPpq5fk9MH/+KUKtocgqRGrFZVjD31rsdQv5PtNYDAtUYZsKAjgw4gK4qooKhjSETrMi3HEs7CKIFi2ZAYHlGrkX9fNnMDkwXGQKeH//NExOUSgS6QANwScHOmEhEAE4/Xtf+5wPT5/1y98n4/tX6vXqwiRxaOzO+qI+33/6kfZ3Se5Gkc5ROdlQXfLRndpBdTfRv6+OLOlqS2++dT5Cf9qTSjiglqa484QrdR//NExO4WSZKIAMoMlDz1yz6/KoueRcI6ATHGTR4cBU0A0k3ZDmdm7Yf81PQ1/QqRIqQx4EuncTk6qz4kg5u0J6UIN5KFChmsgoLuk3kGpwSSkLLpiqK7/u0C/i5X2lfs//NExOcXAaaMAGDGlWu/+ev/v9M275R6qv61wyoeCY3+jm6t7//7+8fN6V2+Fo6xJJGMA5npxZjzGJzdu9b0CYpnBO8yqZSPFIDMcuz53W1lmVby3drFt0RuyvVHstLm//NExN4SqbaQADDGlKNs7s3pT+1iSqqEKxNF7ogWag2MP/MMZP//kLO3N0DhGTIWxUoMnsTCx9TSGeWUKmawEqvK6Wh31c077F8y93yzOvLkZ/lTMny7MvP+nn5+50ie//NExOYUOV6IADjGlb8L2K//y8J+l3y4tGiB61Uv7ZwJx2A5CvSoJMTo1nL8PxaV0JcWLiO6DWsuZPKaGWZu6Gqj59aLai0d1tSQ16OrLfanqq3YpHKY2rdkrVvTq//b//NExOgU4xKEAFGEuf6Kn7tpMZ/r6GZ4ZapRyKP1TjjUHlhwCGAGuhVaYEsCSaPhb8gGB4F2OesMkgFTlgSwscS3Bz4Zf2Aq8vq7y1b/8uX+5dy/92W9gZc1DUO7scII//NExOcUCwKMADjGuXr7Oib67MHQIMfch1RD/oqCaCZgIKGpgholagHdwKjp+ASIghjlWHAKMNUMVxDzfG57GsIAIhKn1DAKJVilsujDEYsarS2vn3dzPP94+lcX39/D//NExOkTywaUAGDEuD/edvYuAsaLlyN9069FhdRpkwQQvx3X1D8OIe8bpmgUep9pBlwrwclEkMhyMByIFEBjrhcAqEAMgiyiSDCYWSAZu4AecGuXi2M6G/mzuorlrnUv//NExOwVYX6IANYElEH6FvHPn+1qicZnHDUJLY8W6FaJHkNSxE0+6I2aYrmmihzi9VWmi/aSHzOJEZElk7yjQpCiJwsTljkAmCwMskgdg+RZgNzBHwCkYIugUxyg4hFJ//NExOkYMc6EAN6QlEdE9uupAbHnPUn59ucW8ZeoTJIRQ1uQu0Y6YQDXIxwCMiU9TtkCAuJgQEaCG3///6rEqn5v3ZUsQMqXkQnMFHSENAwxNa9AgJETb3zWAWO06Oxm//NExNsWSdKEAOUOlB0aa2DqMPMoToAgJksOTcrZXY79ekt4/rmfP/XMu6w3l/7lTQyqpzB0pDiBR0jL3SVXIhknQTBRyFdafzOceQuj////+lexflUHAkOCC2NPKRAJ//NExNQYCdaEAOVKmInHmPAIMASIPMmZDbhsaFNLQEGVLjrIx4YeJmHBmJVj4czxFMwwYNCNkjTnnf+XUu5RSXa1bD+83nreXe63/MZLNOpxZhIFMPG3YtvrZe9ykFzO//NExMYZedaQAN6KmFXba+aaONMqmMLQoUdhrNbYhDOPUBXKPkBBoAscieI5IHKomMgSwKUBgQcZABmChgQJGFBxkwMTG6lyp2vtrUtwRgtMqu2V7bMbHxvjNjwc8UoE//NExLMZydaQAN6KmQS2JR7uyyhBAUS72GWGqoFyhgYdJwRcUEDVASBSEVJkG47bYFIzIpwKYAQ4tWBkg0bVKX0IBZjSxeIEFFugYCn2mG/0AviFqDoPUKLirlmzw3ba//NExJ4WUR6YAM7McMvmWPAb0EoaAXd3qrcRcjrsDVWphMmNSymjJTiYdaVASCj7OBd04hG6yQwHWOM2gQIaWtIyVQuo6QgBBEjLJO7sPZFBLh7KtrfON0jzFM6hhNQB//NExJcViRKUANaMcNNyrdjKf9tink/W9VLdWJHAwt7EZKF35OtoyNkamtiQQ6AFqC8gooHgL7LzLhU0pLUDwVlo6PEK8eAw1Iln1K4r+xgp3WflYiyBYvgMKq9EtISi//NExJMTOQaYANZScNWWTX/+NLEyX8VUaTWW/cBe6bogoHqnmfHtbrXhWYmMh+ACM+GY8IV2GyFVAvTAr+lai9odGSwMlDS8BnYAhyjcf5EtnkelcSo1q+geaoyj//U4//NExJkUmPaUAM6YcFHf0KWSVI6ZQ1LHCpVAEpTvNUaTu6YdKXNxJ8IejNOIjO4lgB5eSUmOh6aJD2cuK2gX2NkSyxAqeFZE9d+mEvdIpWvbdzy///1+qixQ9XxpZICV//NExJkSYOKYAMZYcGmmhC4VnaVtCbKJsZlRiy7elQEug8Gy67yW1Gn7faGkzK9Esl539mBaIk0xkmQ0qAyWrJmqlWE+JO2Tx6LFTFv////WokpIS9XKnrtVpxHSD1Ej//NExKISYOKYAM5ecD3kj1CLwieismDIZXiIgZfUfBPPW1dQm+z+PT9tizuy5bYsylhasVWvAMJrxZNbduZ5/3rLv//+z0UVRfnYKBDL5RkEth1sCjIpwmJ1IITXx8IL//NExKsSmNaUAM5ecFbEzqB2khH6jUfdaNU6tr80jturgtCanSMknAak1VMJqX0sl2tsdUNcW4Sunf////5FZY30dNm8VCxkCX1CW0CyM4RBLEUEmcjrUlzCh4N8QW+t//NExLMR2OKQAMZwcErZTUteFxr2UtpaHOl2O0BJJicqEjgJ0zI+Uyxul8JmnhllP////y6ljr9IemaQqfbzAgfKBGCFBRwHFgxCiFM6zhWwsGiPlx1Ezny5e10rgKRD//NExL4ScM6MAM4ecCSciKSjIgEsYkqwgpVDBgVNod///iru/i73/////yxFbFKXeJaB6J1X9TNrRJW1swemWUmrK2ToVaginiNDNG68V43o2Gco3QjEFiMGK9Srgj3G//NExMcSYMZ4ANaecLCjyWh7iaTRf/T+rYnoKIMqlM1cCogcp630ROR+lDvW5qHplSdE7pOT2WTGJdA8ytp9UyorCMPIAIBTSMkuh0PxySQalloyMlq1aAtpM/6/lKhW//NExNAScM5wANvYcPob/zSshnU31K1QE17uVTiRIBBSUzO/1rMfYzMBCmAl1LyjKFEzLUqAiecAgEFJMSJEiVa1PM5/Vb57z+/qu8/0ScWlgZDXIh2JRMDQNPlTpbBU//NExNkQ2PJsAMpecDUS1nSoLPBUNfBYOlQ19QNPBVVMQU1FMy4xMDBVVVVVVVVVVVVVVVVVVVVVVVVVVVVVVVVVVVVVVVVVVVVVVVVVVVVVVVVVVVVVVVVVTEFNRTMu//NExOgUCeJQAMMEmTEwMFVVVVVVVVVVVVVVVVVVVVVVVVVVVVVVVVVVVVVVVVVVVVVVVVVVVVVVVVVVVVVVVVVVVVVVVVVVVVVVVVVVVVVVVVVVVVVVVVVVKCmMK8kf//NExOoVkWnoADDMlB1G5svvww49aGJZNxu/KKRgAQDAxYQAIIIrvEKiCd4iV+vxN/v////T8/Lp9OF0+Hp1+FoVc0QkTc4nRG7xCrk76FXN30Su8FmiV3iHE3eIUQne//NExKwAAANIAAAAACIohksAA7I+BHLj4GY9Ni0YUIi3cWSxV3oagZ9pFcgmDqOSSedOD5k6gNJIzyhGYRoD7C55ybtSniqkE1J1PLrP6+X9uvV0mkumouougRoEbaBt//NExKwAAANIAAAAAImxtT2pwVSmsnclaitckKqxCsmWTUVTgmlOk2Jpsak26bmtxFckKWrVtXHNWm1BtnXIo6ijcdWnBNGwjJD5g2On3kqLGo3mqqNqIzCMkJ14Kghh//NExP8ZsrHIAMDGubT0najXQ9BwG+AsBGEoX8nZ1xnisc3+/T3vY3RCruxvmkQnCIXeCBRz/18VCTX7PrHsf/65/D5c/ICoA1NZiotiwuzFRbFidUoASBmSF4GSAeVG//NExOslSyHYAMpSvEbIiOpoqZ3TTAg5RSdycf2AREFoRi74gCwsAcPhd3t6QYaQHojnu6JRt1Ig0stKVp91I0UIH0WHiNf1+wuZQoW6UIgqHo7/9/0kcfG8MJQbh44q//NExKgSWL2wAU8YAEYwRP/e/9OqMaCoP54kbcQceOH1df/9//7011cJDSKRXy+i06iK9D61QoIgGKghCs1zZzEgrCBaPAZmhpEOmJgOBhKvUQgBO2BoetRCC+a1Uvfq//NExLEhoyI8AZtAAY8v/8Z/xfWN01/nNvn3vr5fPYCFnaP9Zfx2zVd4mze98Yv6RN0fy7cHbxVzfU7a+gwlOzOGYkCW2by41vGr///OfffzfV4e9Uhv399QNtX3FLpO//NExH0hQjpgAdx4AEGwtIUoFAiaS2jbIASDzSUtNSgceED/0BrgHEwFltWsHGOBr1sIAll5J9Ra/NOVIc3etb9B+appKHaPwc4ml4mDLW2FGfJQw6deustZJM5H0wIA//NExEsh+vpoAONWuQTWXMSUw4YEAaB5Lkx3Mp0GksvPn92fnfG+lqimS500YjWnNxPcfcv6uXsZOyf6vnuH8/cst02aVWcZ3SyP28JEBPQLZp8ShZZkUBqgz82rqBAA//NExBYWYZ6EANHSlMIHjwjk3zjG3//z////e7vrEJISEYnR7tZm54Vdefi/MwoOEZRExLHJllFDCjJoQh8VJjR6HPgEi947S1XaxaD//OaK+5XeAGgR1ZeGCbwWpSFi//NExA8UcaKUANqSlNCBeRXqYQwBAkMNY5tmM/1Qwz6f///v0ukgQKjZpSFLwvarL+ZsKYYkw82dSQXOCU5UjKKtOx6s9/hYSn3f6pP/yqax+6BP81Cs65d+typkJAKb//NExBASEZKgANHQlEimzR0ECD1NM9U/PP2dG+o/nuNC2HA6CI8cWNketu724wwwo6nqomqQyFo1x8mhrTp/7T//03f6Kr/5bjjAjH0gxZvdI8BaZMywWJAKAjJmMwcb//NExBoSoZKoANFWlEozZmOvotx8NNN2NgrBHHaIEdqCpKOm6VmiR18W2Ynufvnq4v4lp4FX////9H/uUUqz/7rUJKEL6a5KqM0ASwXc/1DuHGf6ljwQ/pdj/3Eoxn+h//NExCIROSKsAMtScOVbq4qkqzqaKgiJSsodYVBoUm3CUJE9HqPCUP432f////8bk/cM6R9wZCAheSSh1nOomBgZUUmfMAeC3VYQIo+s6MndaA3CU9FhsLS9Txa+eI41//NExDASOZacANNUlLTCcJ463np+d+e3yE5g7jH////3fKnlvCSEX8M+BVCcegasNPSmMS5OwxwOBWatA42BmHqCZcALHy/EROflwOhl1f6Uq6r9Ucz8w0AQK7fb/9/0//NExDoRYa6UANJKlHo5WFn0////9X9pKnIf6ahCxzD1vNLD0MEC/n1sCobPiEvw30tydmkh6/y1llGr92zl9buFcrQwoKJoisZSqX1R/gxIZEqnlvT/iJ4ls/////T0//NExEcRyRJoAOZEcNWKwvtI3M1JUMWo1+7YDIbF7DKsMQQOCQEAQMPBAxLg4CCi4fOEAfB9YXLn5cHwfD5cH8oD6Sjkh9/zmUl3KdEhz91nVM93qbWhj2jPIRyLcjPk//NExFISMEp0AVkYAHwb18u6O3Cvb9kGQtOsyfi9c3iLMyd5s1UbDSyFgmTuUd1YPk5sgXeVQHQo26D5KQ0OA2AgJAwKyEMhE6RhSpS+192+3DE10fyLK7S+ORskM55///NExFwhSyqcAY9IAJDN+TbU2n5UIJ7siN91LKYWdfyc//8/yH/xfNhD/1t+v2Et8bnnThbVqqfDKSysBLrgddhwQOY8IRnbqV6fu8Kms9br5/G9//E/PHvxUJu0GS9h//NExCkRGUKwAdlAADgHz5OsexBvVxTGOUeCjWtcXK10E7Pu3UHkfTXHm7gAEYtGZbKDyaOFIWCjwoABoEXMHcTaogBjfuOy1hpcey4g0mPhuScO2iJYzIpsydiUY9h2//NExDcWYZqwAMrYlI3fXr4npwlsfVuPpp37t/mc75m987GDpIu8p1HJi39H//6lv/28HEoRTygRjQYBjl2aESg4A0VNQx4I4VKhIBiOgmK6fZyMTaoge6iDqoF8q6vx//NExDAZGaqsANRelP9G9jBDuHpFMFxpRdq6fXN+LTD8/nP3b3Lf8L798b+KW3j43/S2PSAbAB2ykYU0f////pMKx3+ZkD28siBUXHn8ndA2YsI+dxRM+lkVWwzJqH74//NExB4Z4d6oAM4WmKba/2wd/nHk336r563QrJo8LjglApdqMwzI9MNwJjZ0C+vwREF2g+EJdAeEumFtejfsnqX13r88FtXa9f18IDxMfURp////9Lqax7+yyV/XCEom//NExAkT6TawAMZYcGmZcIBg2WBeR1uYQ1R5Rxhs72o7Et535/n4PdbT5xabiWOy6hbAQH1W15890B7XrwW2aXrOOGLstvEwRDRcRRz7utwBd9NVsd1gBsbcwnoCLygJ//NExAwSgPqkAM5YcJQMCnu4iLKspsLAtSs5u1Fu6kkW1+6C/jmLqTpjFMnJi8sL4HSzOxb8/XP1k6WelTiJkKHqP/xRv//////pdR/2EvoWZUzDikrA50SNMANIGRKx//NExBUR8MZ8AMYGcCuogptR00qr0uNLS3O5Vs+Zd2aNkzMBAQCCDiSKq/xKMHgsBXf/1gq6elv/rOvLHv//qToQHhqVdKqT5uI9J1uRQmAFSG68y6SCahcKg+2cBAMF//NExCAQiEpYAMvYJBjVKIXqbWH1+DgYOCAUchCjhR37Wu3U/KJ/+n78LBGLhYyqFM4ruhjKuDQ0Of2hfXNC67nTRHf4iIh8RPdwBJ13f3f/KH+n/Sup3/TO/00J+hNP//NExDAVExqAAFjEvZ3OhMhzuTJvQjUZ1fkah36EbVwgxzuR1chAAAAGYOYQHchBAioLmd/21m0SvDf7cfU2ZtV75Ff94RM0cnMNl9I2SH6dyBV47ZuT87OT/zMzOfm5//NExC4c2yKQAEDYvL2ds0pSe/+y86v2dv/79q7jC6rXRZff38nVm85uTs63SM7sOaMQBI5IYYSDwyKZwPZ0wbGj9njslyoK7gcGh6FxiWiWvrUl/9f/+/X/l/5f/6PK//NExA0R0yKoAAhOvIq//bX/f1ovbVFmNTosxXa+90fUqxmp5Mw0buhc5DWcuhh5AcGg4UH2HRaKB0Sx4fYamHqcGAlPEOXVE/9f///l6/3vGfn//9n6///tey8999dH//NExBgSeyKoABBOvJxl1c6iGpXMZFzspOr6MQG40NNVGQcHCR5jIJheKEEoHZQAQeBMs5MMi80ak2BIFgkKDf///y3//6/+R8v/z/////5v0+j/dnP2mpVL/vVjmPPO//NExCERex6sABBUvTDSE6aRF0OLDcwnKFjVUlPmmk4hB4P1EIQCWK4nhwKISRcLy6s1////////Xv//48v////2p0qYm17J7orOy/6qzyIxerFzydDlKMcg+IEQ0gKH//NExC4R2yKsAAhUvLkLkJ4lCCQiFwghsNgbgWiIZAhkYVQvxXLqvKQKgm0gYSPCtYURbriQ3XMpv/9Zcgff/8gFL/////+Trr+u//+tFRTFkd8yziTZVuzlMo4WcWdx//NExDkRMx60AEhKvFOQREncoYLOJCyDXs5bWtDMWJONDzRACYMbDBejzBkiJv7PzLaI0A5FS+unDohzXfoowyiR6qMLn2QvMRn88oemEGVa+/NnV3t761N/nBhi/9MY//NExEcU+TqsAMPScBZBh5qfo9//+78rktXpCABJMcIcC+jwbbkBGKBsKgW4tTf0EVw/41An/ucZriUGlY4C0uIDSCdFwtYzJRszbWYGjTrNnEEKyWSedQrrIW7L4566//NExEYSmUK4AJYacM3AaU1Kz8yBCkZntYCvW9yVobXbkWKpClGGOTcpBh+MG2+6yKfJw6ZkFcRmMQuoXEebNJqeYlzrNOYvqJ65iYmDFRPvs/TVcwsPucyqsTSx/c6C//NExE4RQTq8AH4acKLQ7peFaAKlk0NIEnA2uX0YvCA58fZJbk16B0JY0ZIJgA42RMh7CValm3SPd31HnyebrKgH/6K3SMtuoqqO963QBVUt5BAqc4sSChlDxPpL5qU4//NExFwRYSqwAMTacPeCUAJzn3oadp+s6Sza7ljlaSDKcpouLawCTEuj5e6zrOv/bNdf1r9Wt8Wy9jf//SCtQwUudEG3APnWNDSgxmxBmlKTksYkzGxHWhMFxXKGgjB4//NExGkR6SqkAMYecJVljRKS5gyGUiyZCzcSEIYGgY8ONFHHRKn+xY9rOeb2ut43b////9RWyhfhX4L/RHmI6rAgvhAYwKPjh0zfvLupd15nm4G4IRfL9zsEDvTRNEdz//NExHQSOK5sANPSTIACAQBN4oGC51zYIUHIPn0lHDhAUCD2iiNBn1Kc0XH7llPes+s+qLBEBm3IhuvEBlMcMh99mFkigOyVAFoDmWgVoeecXg3kYuORnj2UVb+4m6+G//NExH4VwRZ8AMoGcPNXwvFblid+o04wqMgguCgdJ+NR+/ielKZxnc80BWLt8oIkSmIFRAER4u6o+NPnAbPB8czrHIZa6Kf//+v8goIVlGfBU+PYaeNqZnKLxJNAymAE//NExHoZ2TKQAM6ecL8aWws9gMNJJQGKFZ4dVoRpsEbKvbp8w0iy3hIlWqVzTpyqAnAKM5D/R7axMEV2oYnZ3GD4E7zbxvQlQtquZLwNuHpj4zb+uL5+b/6tXF9bxmd6//NExGUc4a6UANPelBFQqAWCrWnDJUl////Wld6qiq0mMyrELpUYJUoYZfIPFJnRA1ZPYH1muzi9cKD7yrv/GzisS2W2STTUeJmahjC/F6mWIqK2aYtu1Rm1Y1H8cbJr//NExEQV4VKcANPalDbeqt95cwNAheumuV5BKZD///6Vr3HrIZLuv49RlCMYhoKAjDXx+N+ZhyvdfRTGizj9LzedL+c3IcEMfQbWgquKB2IouLg0EaiAW8lmMlnVzXr+//NExD8UaT6YANYQcDVeg9gk6ye7FunhKdKPd08jsKpYj8L+AVyHTzDlahtbAgiWaMRXjfQgMUXoU48YUYBKNJ28GJve2b4Sc+OP5KA9LwMytCWesyhdpomSwVaVNin6//NExEAVYT58ANvScP+XH16lz0iVRzGf+Wpkvv0////6oTqFNJIAowX2HAJ5mGnOISsL6JpkWOzsoOFH0sF7NY7B018H/BuT/Qw3wOeSXTJJ3aEtmbuDDciaU1NetWuj//NExD0S4T54ANvWcM2zS1pKpc//93/////+ih4QjSNJvcaLUpEFCAWNPiVrNACouLYyTbBuEVFghqmRvMJP23nO5EnS8JDKhoeuLO7FnLWNx6W7quS5lHS84bU/dT6S//NExEQSIUJ0ANvSce/FUHBqbQOADkmYpuieqMQgEcMQcOkNxQWmAgc/DuJ2N/bvs5ajqw/1/PuTIEQU0SMztolEbXolxUhBF1VUv3tHIPEv///t////9VUxhM3uw0ic//NExE4RiTZwAVwoAN0ZJgZgioCbmGSgA0JQS8xgQysKXTdluGUBqnROLBgQqBzuCHot5H2n8xIyjIQj1zqNG/jyNjhU/FOhuG3DTnXuwML70zMqkZEjvPrPzTN9Wt76//NExFoesdZgAZp4ALS2tXGP97xnf1j//Gf82tNPdYSQP+jqMf3aG8TBtl/RrVI9kDzryM5CRT43xs2ydtXcutkybIoQcdRy2VPdNqLWuje6ueklY3S9q9Sb7//6XdVM//NExDIdkyqgAYlYADMinkmaH//8PfURVItZpHDQ1KW//f/7nuOMUpjYo+O85BuO0CdVhTZ0v/////+CfbE3vN39/9FBeJjQ3JCw8DYSyUfK1WGT/Qyf/9P//9bM6Ner//NExA4U+u64AcIoAdz2ShKoY6jxapdtL5lnlE2UxXMRVRrPPVTDhMOx85hVRcUERgEA4saDOymOqKayK+d07mK5yiroJFZGMUReSQ8RhHUDE7Y1/Ijv////+ntXCoik//NExA0SCrq8AAiKuDsjmdkochSjQOLug86376yNsQr2LMOOPU20qEujCTHY6pHnYex0aLGVlKxTpK2Q17/zOtzxaWQ9mbnkVTF5tlA////l/dz1MzDTzMpLrZzNfsmj//NExBcSUgKwAAhMmHAk1Fr37nbN75//NT6XpFv/n+/Hc8q5pI5ep6ITYaQDSFSJIYHodnTusYtIhVSxZahCldT9VqisJjC98YTLOVANyHYvqUDVOc7U///epr5ctqe4//NExCASkgKcAMCGmBD0KRCNRY7RgZBiAauRXz/+3Ot5kNHnVq8NauVXUGOoLHglTO2SNv//+lW5LqrxDEQu1L2xNoGsh5zHt0i9y56FQne5VuJyfP6ep/M/5v8yoUSC//NExCgSqVKcANHQlAOeUAOHblqEZqQUZLKzUWHwwsuoT4nIhEHHEP84+3///+pKyy/AQnhJJOxJJQzG8BJ3GsWoyBdaBY1KmH8bEDN2/////yc5a5eaLHoGRKeAsoOA//NExDASYU6kANHSldJkCMfNTIGcZhyKF7rV7SSgxBGRv//r//m6q7yoSEoQEv80lgogLP7ZRCRWcwyL7HBZePP0Iv09X///+pTtqUNg2sfDEyaVANpHkiCH8fHNRafq//NExDkSKaqkAMnWlKmxf9/Or7nKsEQCe77HqN2p+plwid5+nvh5lRl6vJvWwXPwsc+OF/Fz6m+z9P//x++XV8rw6CkUzJq58QY+nGtK0mAIFZXfLmC7f+mZ/66qIdGq//NExEMPAVKoAMnWlLow0MgTqjHXsXWtgGkKlwy1BEFz0Yk8fJltXXr//nomqHHuKglgWi2MzhCjxR4PB+LRc8w9kvZrt93khUyz/rWprNmBjTJdboTAUNXQSeir7l77//NExFoRoaakANHUlAqDQHhCtlh81uYc0ULm0jLX8ff////cqp18lk04sJ8XcJ0CxkqkeKJgMFlmzfW0Spc///////1ql/2xAwBBYEiYqOesCPtQQBDTisWaYnACa4Lh//NExGYSmUqkAMoSlGNTR5LzqT5MIpXV38/z//XpveqKrlhFIkQmICkSwXEB8iP6GnKLHkDyKpZfiBBk+EbaoLOx/NF0DZDB4rpo6DmIRauntOvvft1tRMeKoRW37af3//NExG4REU6gAMpOlOY6EMQCCIw4EHhYiLig0JjWoRIR3uUwlvML1Xqwgk1xWOxtMgi3lU2YfqKLywYt2aAwPsgIDpFzVgcVuh2Xe98S339f/88PwNGFChokDsQw8FTy//NExHwQ6UagAMsKcYQQ04fEmPRSfcXp9xPayXJgcpVsMg4fwDyxIwNg65+SqCakyseau3NsgAc3gPy2B7GluvGVk2pMF+l+T3vdxf/v78nXXNodCiOdORJsEscMCqQw//NExIsSoaKcAMoQlFUJ1a7lHPmfcjcPs8tU7fFN2+occKvphqLGD8xgAciIm+dgYgoIVvMKFWvuRdhE4GAYM8xdTFhSLG6nbqPo1cYYr0rCx86pzeapiRSkKpsBWSyq//NExJMT8Z6QAMrSlcFhVsmvRFCCZISPYRbdyuP2Of/3GtvWVkRIOt0JZ4oT//9/+pUZCH6Wic5oM1TEML2DsgJXxdY41ZKAaIigiMWdO9VWkHDRrDTa8zjV6pAMOcoB//NExJYZ0Z54ANvSlKiuhP/xTtmliy4vfZp3/J7FSCj55/YE3U1RsKeCAegPq7MvQhn2xMn2ID80hMDJV///qOLVZPGVgjV8t/m5AVkG4h3BgTMgjIFgIsCivqwB4w3g//NExIEYkUJsAN4YcCNFJPhR3smdbyeOMmDb4cq3k9ZU1G8Ok+JqZVkiismcoqdELKcekUi80Ugunor1/1/lH3//vvo61yqD0f//66ViEDDACYtgOI0oystDx1AGISI3//NExHEXchZwANvOmORVeSwL0Zpfmmh2PRvgWrH4G3qk7ut+ViCSau3Nr4SMrxllNsTKXuBSckRLvV+ZXgsUwDyRgOlD1v1ChsOt9Qpm0pJAotUMBGiig4bhDlAIFQkG//NExGYWETpwAN4ScPOYsEozFVcHw8WApQI3trfsQr4LXp9yHL/buP3bWsrRjF7JjuID/ZmN+b67FIE8z1/n/SkwWZmJLKt/2Gl/Ct/0o///9aowMFS1KA88cwTEGgAB//NExGAUiUJwAN4McFQZ+FpXgwuCQsue7Zf6pYgjPkyoRZuPPjqrOSlMEWv75GpMAnxf2ddu1dJxzO7fNbfkteajzaVf5TZ9cZ60VTHkZMcJozYvzUhbdKHTdIzMnrgw//NExGASyTpwAVswADoYygh3ocow0CwMKzLwjHQxP0AQBC2ImoGSIYwBsMZPFljfHyT7DLESO+RcdhFyLMRU0Lpwi3yTE/E6bn0lE0bGReL35iWyJsnTRUXpk6X+zl5j//NExGcf6YpYAZyYAOXPVB1ngEyHBTHnjqyIm/YFI1IQfXrWdJJSmmQIAxKmr8I3qCww+7gO9R9rfd/WM7Yw/vPOwzJS+NPdRLFNhFSDDZVywK4oxEVIvXaNQ9bUDXOp//NExDoQ4LoUAdgYAN12K//Jf57tZrpQdTzhAFi83YYNKpqlvTofYk5KHaROgWlXxKGx4OMT/GUYc8mq+XTsEohpQWQF1mnarR6bmxamLrZLygGPWtHvfpe/6E3ft1s6//NExEkSUPYMAMJGcOoCoUklESn1pJWLaPLAYlnAgozBSMKCE4USxwCFVY0AgJuMzMf/scDCh4NAZ+HVA0VlSwNBR4NKEsqAgae8OyuWf//+tbvDUQgrCoeIzB8lFQhG//NExFISOPX0AGDGcIaLoDZ40KSIqdKI2FokgUUUeYmgtE4stgcDwMigs3///FkPFRQkaHiosh6xRv/qFhVJkJC7DICFhWZULjEtIBbURulooDAfyYjhrJo8OG2J5sWj//NExFwROJlcAEpMTMebYnmkwwwtDIyYYYWh+RkMBHzRkzSYNZoy6kwa0GXZg1oMuzD+Z6H8z0UHkAmB/l+aKHOkHqJgOINS5AWjtmA5dw7EQcEoqJCZQHliMgXCLgs1//NExGoAAANIAAAAAAF3hHCzgtisB+UbZX5dnQ1DfOeuX9Df3+XVCUsE6F2aCgwoKJDCqpKsYwpB0GiowKhM6HSpYYPOkSxUBDzoaEQlERYedPBokR73f/1PcdYgsWWM//NExL0QaN2YAGJGcHnWkSSfd/9rCJIkhdxxsxoHQyZV4EIRW2pFHIUGyAkiLqdw5+EERzPj8A8CJ/WTxH4GH/x//Hz/PBkR/55tGHmGD//gif/jpDB+5I8B3//9PET6//NExM4QUInsAHmGTMMywjXyR//4GeeGbQgBRAlRZgVSCTqGmiqT9ISqDSc06wGkrwSH4qk2B5mh07a0tPMmNFruTXLWmy6Nlblt5l2Bd9e+ttd63sbN+qxttYxquq7a//NExN8QwGXsAGCGKOGIMKoCjVapMa7VnUmOlFwzUBIMbGFEhhTqX/9KKgEYUTGrOFVhRqSkzVYxtlGqxozgJBhVBhVf0YjA6ZA8DppWR2///6haxaoGUDKoyoZV///0//NExO8VgIncAHpETYxUjSErgdMFZHb///qFpC1QMoGVRlUl///+kYjI0wVwOmCsjt///1C1i1QsggPrhAEQmOZ11hwsI36AAAIU58kmFDCCEruaO8EIA+4MMBAbIcQF//NExOwfAxXcAHsGuQIvKFNW+pyO5qjiyd1MbIS7yFb0NW8pRPqdy6w+CBcT4CESZcmidLKwp1XRoKte1rWrHAyRoBCcrtW/tpoMFWChOHEtOBgpZpGW3///80kk84x1//NExMMSaAVwAAjGAU/4xqAtVJmbVmvD1/b42rf//+zGqxSZvz9j12asakwo1LXjHVirGP/1WBmy//q4YTAIUFEoNiIoSCDhAwPttiqmGqirpp+mqr/+6xWmqqqqumVX//NExMwRQMnsAGCGcJT/////1aS00Vf///1V+qSqpp//0lK01RFn8qqqqplVJV07//7TTRUOS00FwMNQV+CIcUoRQhNuOLCNMpLEBgDJ12QTDZGTlBQgQPQICAkuaNGx//NExNoacxHkAHmGueaNHPqIG5yUQQhbcEGO4cXEcDPgQQWgAiEHd3ru5oSJEgQn3F/hz3gjcwhRK+hOdeFhzTgimYR1J+h+cDiRgifEvH/A/gj4nx38HniICjKrHtTJ//NExMMR6BkoADCGASlCngTCaKwXNlUHuTYjri0E9UAKeRWWDV0uKn00VJeqohiqys1JFOVImo9Vn+0OXizXjTXkylQKrhRmsAYZBjJgYqwwpGFBCWCjBnQCBmoYdY4m//NExM4dWiXEAMJGmRMFJlgq0gzk1EtDCoYmGoUmqCqRhjWUTJhSWFUmeVNmNx3xrxvzVRJh2l0NNCFtZZmUFAiYxJEkacGDoLGZWBg4DhoGRQSGjQq3+piXCwuRMgIW//NExKsfioHUAMpGuRUMmQkLiMyAhYVImQkLsmRb//6xZFYo18VFuKL3UZKojJs+ebdsWjI+GxYLyB7OWLjJAmYvu3////6FdmdnmK4ww5HZ2dmcj+zP/////s7s/dnd//NExH8R6HVcAHmGSJ27O7L7szt2dmdv/RTMOOyyywfVGAwQwsIDHEBAo4gPCFhGIWEQIFgIFgGETYqab/45o0gPIAQmAyYDYOJDmu///QxAsliWGmva6+rSKoFkCxlg//NExIoSiv1sAEnEuRGARpkMLEhgYwoKCQUFhiWJAsSBkMhMMgsSBkkFWOb/SLmRZAVJBVLakCpliaGf/qZ2D7uPSE0qQtDPHsAREYSHsHpCSkxBTUUzLjEwTEFNRTMu//NExJIQwFXwABCGJDEwMKqqqqqqqqqqqqqqqqqqqqqqqqqqqqqqqqqqqqqqqqqqqqqqqqqqqqqqqqqqqqqqqqqqqqqqqqqqqqqqqqqqqqqqqqqqqqqqqqqqTEFNRTMu//NExKIQGEHMABDGJDEwMKqqqqqqqqqqqqqqqqqqqqqqqqqqqqqqqqqqqqqqqqqqqqqqqqqqqqqqqqqqqqqqqqqqqqqqqqqqqqqqqqqqqqqqqqqqqqqqqqqqTEFNRTMu//NExKwAAANIAAAAADEwMKqqqqqqqqqqqqqqqqqqqqqqqqqqqqqqqqqqqqqqqqqqqqqqqqqqqqqqqqqqqqqqqqqqqqqqqqqqqqqqqqqqqqqqqqqqqqqqqqqqqqqqqqqq//NExKwAAANIAAAAAKqqqqqqqqqqqqqqqqqqqqqqqqqqqqqqqqqqqqqqqqqqqqqqqqqqqqqqqqqqqqqqqqqqqqqqqqqqqqqqqqqqqqqqqqqqqqqqqqqqqqqqqqqqqqqq//NExKwAAANIAAAAAKqqqqqqqqqqqqqqqqqqqqqqqqqqqqqqqqqqqqqqqqqqqqqqqqqqqqqqqqqqqqqqqqqqqqqqqqqqqqqqqqqqqqqqqqqqqqqqqqqqqqqqqqqqqqqq\" type=\"audio/mpeg\" />\n",
              "                    Your browser does not support the audio element.\n",
              "                </audio>\n",
              "              "
            ]
          },
          "metadata": {},
          "execution_count": 32
        }
      ]
    },
    {
      "cell_type": "markdown",
      "source": [
        "More operators: <br>\n",
        "* Comparison Operators: ==, !=, <, >, <=, >= <br>\n",
        "* Assignment Operators: =, +=, -=, *=, /=, %= <br>\n",
        "* Logical Operators: and, or, not <br>\n",
        "* Identity Operators: is, is not <br>\n",
        "* Membership Operators: in, not in "
      ],
      "metadata": {
        "id": "sfubu24UbqjH"
      }
    },
    {
      "cell_type": "markdown",
      "source": [
        "# 📗Topic [3] Data types: number, string, list and dictionary\n"
      ],
      "metadata": {
        "id": "3eSrUoglRh6-"
      }
    },
    {
      "cell_type": "markdown",
      "source": [
        "\n",
        "|Data type| |\n",
        "|:--:|:--:|\n",
        "|number|int, float|\n",
        "|string|charcter|\n",
        "|list|[1, 2,4], ['Mary','Tom','Jane'|\n",
        "|dictionary|(key: value), [('English': 80), ('Korean':90)]|\n",
        "|tuple|('zero', 0)|\n"
      ],
      "metadata": {
        "id": "ZVFb5JmJrPXu"
      }
    },
    {
      "cell_type": "code",
      "source": [
        "a1 = 3   # a1 is integer\n",
        "a2 = 3.0 # a2 is float\n",
        "a3 = \"3\" # a3 is string\n",
        "\n",
        "type(a1); type(a2); type(a3)\n",
        "# print(type(a1), type(a2), type(a3))"
      ],
      "metadata": {
        "colab": {
          "base_uri": "https://localhost:8080/"
        },
        "id": "g-kvldqENA1e",
        "outputId": "7ac463bc-4877-4e58-ed5d-d31a0c38b8c3"
      },
      "execution_count": null,
      "outputs": [
        {
          "output_type": "stream",
          "name": "stdout",
          "text": [
            "<class 'int'> <class 'float'> <class 'str'>\n"
          ]
        }
      ]
    },
    {
      "cell_type": "markdown",
      "source": [
        "list and index (0, 1, 2,...)"
      ],
      "metadata": {
        "id": "HC_wMsPnNbzs"
      }
    },
    {
      "cell_type": "code",
      "source": [
        "a = [1, \"Mary\", 4, \"John\"]  # This is a list.\n",
        "print(type(a))\n",
        "\n",
        "# a+a"
      ],
      "metadata": {
        "colab": {
          "base_uri": "https://localhost:8080/"
        },
        "id": "LyTw7phONZHE",
        "outputId": "89ab1e73-a001-4b47-b88e-ca5a28c38c4d"
      },
      "execution_count": 33,
      "outputs": [
        {
          "output_type": "stream",
          "name": "stdout",
          "text": [
            "<class 'list'>\n"
          ]
        }
      ]
    },
    {
      "cell_type": "markdown",
      "source": [
        "* index: Python index starts from '0'\n",
        "\n",
        "e.g., a = [1, 2, 3, 4]"
      ],
      "metadata": {
        "id": "-fL-pJvj7NW8"
      }
    },
    {
      "cell_type": "code",
      "source": [
        "a[0]\n",
        "type(a[0])\n",
        "type(a[1])\n",
        "a[0] + a[2]\n",
        "a[0] + a[1] # int + str = error"
      ],
      "metadata": {
        "id": "9Z5zLDGc7X13",
        "outputId": "d556b69d-ba83-4127-99e1-5c6a5fd55195",
        "colab": {
          "base_uri": "https://localhost:8080/",
          "height": 211
        }
      },
      "execution_count": 40,
      "outputs": [
        {
          "output_type": "error",
          "ename": "TypeError",
          "evalue": "ignored",
          "traceback": [
            "\u001b[0;31m---------------------------------------------------------------------------\u001b[0m",
            "\u001b[0;31mTypeError\u001b[0m                                 Traceback (most recent call last)",
            "\u001b[0;32m<ipython-input-40-7c2a495ff754>\u001b[0m in \u001b[0;36m<module>\u001b[0;34m\u001b[0m\n\u001b[1;32m      3\u001b[0m \u001b[0mtype\u001b[0m\u001b[0;34m(\u001b[0m\u001b[0ma\u001b[0m\u001b[0;34m[\u001b[0m\u001b[0;36m1\u001b[0m\u001b[0;34m]\u001b[0m\u001b[0;34m)\u001b[0m\u001b[0;34m\u001b[0m\u001b[0;34m\u001b[0m\u001b[0m\n\u001b[1;32m      4\u001b[0m \u001b[0ma\u001b[0m\u001b[0;34m[\u001b[0m\u001b[0;36m0\u001b[0m\u001b[0;34m]\u001b[0m \u001b[0;34m+\u001b[0m \u001b[0ma\u001b[0m\u001b[0;34m[\u001b[0m\u001b[0;36m2\u001b[0m\u001b[0;34m]\u001b[0m\u001b[0;34m\u001b[0m\u001b[0;34m\u001b[0m\u001b[0m\n\u001b[0;32m----> 5\u001b[0;31m \u001b[0ma\u001b[0m\u001b[0;34m[\u001b[0m\u001b[0;36m0\u001b[0m\u001b[0;34m]\u001b[0m \u001b[0;34m+\u001b[0m \u001b[0ma\u001b[0m\u001b[0;34m[\u001b[0m\u001b[0;36m1\u001b[0m\u001b[0;34m]\u001b[0m\u001b[0;34m\u001b[0m\u001b[0;34m\u001b[0m\u001b[0m\n\u001b[0m",
            "\u001b[0;31mTypeError\u001b[0m: unsupported operand type(s) for +: 'int' and 'str'"
          ]
        }
      ]
    },
    {
      "cell_type": "markdown",
      "source": [
        "[Github accounts](https://raw.githubusercontent.com/MK316/Spring2023/main/DL/files/DL_github.csv)"
      ],
      "metadata": {
        "id": "S-KG49Zaim0S"
      }
    },
    {
      "cell_type": "markdown",
      "source": [
        "\n",
        "\n",
        "---\n",
        "# The End\n"
      ],
      "metadata": {
        "id": "3cZjH9xIiN4_"
      }
    }
  ]
}