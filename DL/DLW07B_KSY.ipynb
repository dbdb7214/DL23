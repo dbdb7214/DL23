{
  "nbformat": 4,
  "nbformat_minor": 0,
  "metadata": {
    "colab": {
      "provenance": [],
      "authorship_tag": "ABX9TyPZzEpYdSNJgQ1gK8UGYMWb",
      "include_colab_link": true
    },
    "kernelspec": {
      "name": "python3",
      "display_name": "Python 3"
    },
    "language_info": {
      "name": "python"
    }
  },
  "cells": [
    {
      "cell_type": "markdown",
      "metadata": {
        "id": "view-in-github",
        "colab_type": "text"
      },
      "source": [
        "<a href=\"https://colab.research.google.com/github/dbdb7214/DL23/blob/main/DL/DLW07B_KSY.ipynb\" target=\"_parent\"><img src=\"https://colab.research.google.com/assets/colab-badge.svg\" alt=\"Open In Colab\"/></a>"
      ]
    },
    {
      "cell_type": "markdown",
      "source": [
        "Strings: A string is a sequence of characters enclosed in single or double quotes. Examples: \"Hello, world!\" or 'Python is great!'\n",
        "\n",
        "Integers: Integers are whole numbers, positive or negative, without any decimal points. Examples: 42, -5, 0"
      ],
      "metadata": {
        "id": "gtvn6X4KS1JT"
      }
    },
    {
      "cell_type": "code",
      "source": [
        "greeting = \"Hello, students!\"\n",
        "year = 2023"
      ],
      "metadata": {
        "id": "xYDz0u4YTiXk"
      },
      "execution_count": 3,
      "outputs": []
    },
    {
      "cell_type": "code",
      "source": [
        "print(greeting)\n",
        "print(year)"
      ],
      "metadata": {
        "colab": {
          "base_uri": "https://localhost:8080/"
        },
        "id": "xQPLwSSNViic",
        "outputId": "5afb61df-d96b-46e0-e3be-f6796022a27e"
      },
      "execution_count": 4,
      "outputs": [
        {
          "output_type": "stream",
          "name": "stdout",
          "text": [
            "Hello, students!\n",
            "2023\n"
          ]
        }
      ]
    },
    {
      "cell_type": "code",
      "source": [
        "message = greeting + \" \" + str(year)\n",
        "print(message)"
      ],
      "metadata": {
        "colab": {
          "base_uri": "https://localhost:8080/"
        },
        "id": "bqF3V9XWU1Zh",
        "outputId": "c1da9013-56b2-4cf2-f0a3-aea482ab848e"
      },
      "execution_count": 10,
      "outputs": [
        {
          "output_type": "stream",
          "name": "stdout",
          "text": [
            "Hello, students! 2023\n"
          ]
        }
      ]
    },
    {
      "cell_type": "code",
      "source": [
        "num1 = 10\n",
        "num2 = 3\n",
        "\n",
        "print(num1 + num2)\n",
        "print(num1 - num2)"
      ],
      "metadata": {
        "colab": {
          "base_uri": "https://localhost:8080/"
        },
        "id": "_FWWcYlRXXM-",
        "outputId": "3a0e2164-41a3-409d-cfb5-d83d3de6206e"
      },
      "execution_count": 11,
      "outputs": [
        {
          "output_type": "stream",
          "name": "stdout",
          "text": [
            "13\n",
            "7\n"
          ]
        }
      ]
    },
    {
      "cell_type": "code",
      "source": [
        "user_string = input(\"Enter a string: \")\n",
        "user_number = int(input(\"Enter a number: \"))\n",
        "\n",
        "print(user_string * user_number)"
      ],
      "metadata": {
        "colab": {
          "base_uri": "https://localhost:8080/"
        },
        "id": "vcndkpeLY0Tl",
        "outputId": "c73592f2-1082-4084-aa30-48f8bb6bc671"
      },
      "execution_count": 14,
      "outputs": [
        {
          "output_type": "stream",
          "name": "stdout",
          "text": [
            "Enter a string: 냐뇨\n",
            "Enter a number: 10\n",
            "냐뇨냐뇨냐뇨냐뇨냐뇨냐뇨냐뇨냐뇨냐뇨냐뇨\n"
          ]
        }
      ]
    },
    {
      "cell_type": "code",
      "source": [
        "sentence = \"Coding is fun and easy to learn!\"\n",
        "\n",
        "word_list = sentence.split()\n",
        "\n",
        "print(word_list)"
      ],
      "metadata": {
        "colab": {
          "base_uri": "https://localhost:8080/"
        },
        "id": "IHGMyB7ZZ9Pn",
        "outputId": "ba70bc08-b6f9-48fd-85cc-7f3e0e869d67"
      },
      "execution_count": 15,
      "outputs": [
        {
          "output_type": "stream",
          "name": "stdout",
          "text": [
            "['Coding', 'is', 'fun', 'and', 'easy', 'to', 'learn!']\n"
          ]
        }
      ]
    },
    {
      "cell_type": "code",
      "source": [
        "text = \"Coding is Exciting!\"\n",
        "\n",
        "uppercase_text = text.upper()\n",
        "lowercase_text = text.lower()\n",
        "\n",
        "print(\"Uppercase text: \", uppercase_text)\n",
        "print(\"Lowercase text: \", lowercase_text)"
      ],
      "metadata": {
        "colab": {
          "base_uri": "https://localhost:8080/"
        },
        "id": "po8YXxwbaV9R",
        "outputId": "5921d74a-8e49-479d-c3e4-ccba3ef78384"
      },
      "execution_count": 16,
      "outputs": [
        {
          "output_type": "stream",
          "name": "stdout",
          "text": [
            "Uppercase text:  CODING IS EXCITING!\n",
            "Lowercase text:  coding is exciting!\n"
          ]
        }
      ]
    },
    {
      "cell_type": "code",
      "source": [
        "quote = \"To be or not to be, that is the question.\"\n",
        "print(\"First character:\", quote[0])\n",
        "print(\"Last character:\", quote[-1])\n",
        "print(\"First 5 characters:\", quote[:5])\n",
        "print(\"Characters from position 5 onwards:\", quote[5:])\n",
        "print(\"Reverse string:\", quote[::-1])"
      ],
      "metadata": {
        "colab": {
          "base_uri": "https://localhost:8080/"
        },
        "id": "qsSRKqHba30Z",
        "outputId": "603b7cc8-ec93-454d-c928-e0bc8d88d4fc"
      },
      "execution_count": 17,
      "outputs": [
        {
          "output_type": "stream",
          "name": "stdout",
          "text": [
            "First character: T\n",
            "Last character: .\n",
            "First 5 characters: To be\n",
            "Characters from position 5 onwards:  or not to be, that is the question.\n",
            "Reverse string: .noitseuq eht si taht ,eb ot ton ro eb oT\n"
          ]
        }
      ]
    }
  ]
}