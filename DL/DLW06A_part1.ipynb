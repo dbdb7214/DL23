{
  "nbformat": 4,
  "nbformat_minor": 0,
  "metadata": {
    "colab": {
      "provenance": [],
      "include_colab_link": true
    },
    "kernelspec": {
      "name": "python3",
      "display_name": "Python 3"
    },
    "language_info": {
      "name": "python"
    }
  },
  "cells": [
    {
      "cell_type": "markdown",
      "metadata": {
        "id": "view-in-github",
        "colab_type": "text"
      },
      "source": [
        "<a href=\"https://colab.research.google.com/github/dbdb7214/DL23/blob/main/DL/DLW06A_part1.ipynb\" target=\"_parent\"><img src=\"https://colab.research.google.com/assets/colab-badge.svg\" alt=\"Open In Colab\"/></a>"
      ]
    },
    {
      "cell_type": "markdown",
      "source": [
        "# 🌀**DLW06A Part I (4/12)** Coding and Language games"
      ],
      "metadata": {
        "id": "_mbT_YJKGkm-"
      }
    },
    {
      "cell_type": "markdown",
      "source": [
        "# 💕 Goal: Creating an app similar to **_Word Guessing Game from Hints_**\n",
        "\n",
        "We will be spending 2 weeks to get this go."
      ],
      "metadata": {
        "id": "ppmHMRdisMiv"
      }
    },
    {
      "cell_type": "markdown",
      "source": [
        "##💦 **Demo 1: Making a word quiz.**"
      ],
      "metadata": {
        "id": "MWpQZGE5wZgt"
      }
    },
    {
      "cell_type": "code",
      "source": [
        "#@markdown Run this code to see guesiong game\n",
        "import random\n",
        "\n",
        "# Define a dictionary of words and their hints\n",
        "word_hints = {\n",
        "    \"suprasegmental\": [\n",
        "        \"This term is related to the features of speech that go beyond individual sounds.\",\n",
        "        \"It is often associated with intonation, stress, and timing.\",\n",
        "        \"Examples include pitch, tone, and stress patterns.\",\n",
        "        \"The answer begins with 's'.\"\n",
        "    ],\n",
        "    \"geminate\": [\n",
        "        \"This term is related to a specific type of consonant.\",\n",
        "        \"It refers to a consonant that is pronounced for a longer duration than its regular counterpart.\",\n",
        "        \"In some languages, it can be represented by doubling the consonant in writing.\",\n",
        "        \"The answer begins with 'g'.\"\n",
        "    ],\n",
        "    \"syllable\": [\n",
        "        \"This term is related to a unit of speech.\",\n",
        "        \"It is a sequence of speech sounds, typically consisting of a vowel and any surrounding consonants.\",\n",
        "        \"A word can have one or multiple of these units.\",\n",
        "        \"The answer begins with 's'.\"\n",
        "    ]\n",
        "}\n",
        "\n",
        "# Define guessing game\n",
        "\n",
        "def guessing_game(word_hints):\n",
        "    words = list(word_hints.keys())\n",
        "    random.shuffle(words)\n",
        "\n",
        "    for word in words:\n",
        "        print(\"\\nGuess the word based on the following hints:\")\n",
        "        hints = word_hints[word]\n",
        "        attempts = 0\n",
        "\n",
        "        while attempts < len(hints):\n",
        "            print(f\"Hint {attempts + 1}: {hints[attempts]}\")\n",
        "            guess = input(\"Your guess: \").strip().lower()\n",
        "\n",
        "            if guess == word.lower():\n",
        "                print(\"Congratulations! You guessed the correct word!\\n\")\n",
        "                break\n",
        "            else:\n",
        "                print(\"Incorrect. Try again with another hint.\\n\")\n",
        "                attempts += 1\n",
        "\n",
        "        if attempts == len(hints):\n",
        "            print(f\"Sorry, you've run out of hints. The correct word was: {word}\\n\")\n",
        "\n",
        "# Using this conditional structure is a common practice in Python to allow a script to be both executed as a standalone program and imported as a module in other scripts without immediately running the code within the script.\n",
        "if __name__ == \"__main__\":\n",
        "  guessing_game(word_hints)"
      ],
      "metadata": {
        "cellView": "form",
        "id": "68fDLUnZs8KF",
        "outputId": "a45d056e-0261-4226-b62f-b96f577e3086",
        "colab": {
          "base_uri": "https://localhost:8080/",
          "height": 1000
        }
      },
      "execution_count": 2,
      "outputs": [
        {
          "output_type": "stream",
          "name": "stdout",
          "text": [
            "\n",
            "Guess the word based on the following hints:\n",
            "Hint 1: This term is related to a unit of speech.\n",
            "Your guess: segment\n",
            "Incorrect. Try again with another hint.\n",
            "\n",
            "Hint 2: It is a sequence of speech sounds, typically consisting of a vowel and any surrounding consonants.\n",
            "Your guess: \n",
            "Incorrect. Try again with another hint.\n",
            "\n",
            "Hint 3: A word can have one or multiple of these units.\n",
            "Your guess: vowel\n",
            "Incorrect. Try again with another hint.\n",
            "\n",
            "Hint 4: The answer begins with 's'.\n",
            "Your guess: syllable\n",
            "Congratulations! You guessed the correct word!\n",
            "\n",
            "\n",
            "Guess the word based on the following hints:\n",
            "Hint 1: This term is related to a specific type of consonant.\n",
            "Your guess: \n",
            "Incorrect. Try again with another hint.\n",
            "\n",
            "Hint 2: It refers to a consonant that is pronounced for a longer duration than its regular counterpart.\n",
            "Your guess: \n",
            "Incorrect. Try again with another hint.\n",
            "\n",
            "Hint 3: In some languages, it can be represented by doubling the consonant in writing.\n",
            "Your guess: Gemination\n",
            "Incorrect. Try again with another hint.\n",
            "\n",
            "Hint 4: The answer begins with 'g'.\n",
            "Your guess: geminate\n",
            "Congratulations! You guessed the correct word!\n",
            "\n",
            "\n",
            "Guess the word based on the following hints:\n",
            "Hint 1: This term is related to the features of speech that go beyond individual sounds.\n"
          ]
        },
        {
          "output_type": "error",
          "ename": "KeyboardInterrupt",
          "evalue": "ignored",
          "traceback": [
            "\u001b[0;31m---------------------------------------------------------------------------\u001b[0m",
            "\u001b[0;31mKeyboardInterrupt\u001b[0m                         Traceback (most recent call last)",
            "\u001b[0;32m<ipython-input-2-a9abbe51110c>\u001b[0m in \u001b[0;36m<cell line: 52>\u001b[0;34m()\u001b[0m\n\u001b[1;32m     51\u001b[0m \u001b[0;31m# Using this conditional structure is a common practice in Python to allow a script to be both executed as a standalone program and imported as a module in other scripts without immediately running the code within the script.\u001b[0m\u001b[0;34m\u001b[0m\u001b[0;34m\u001b[0m\u001b[0m\n\u001b[1;32m     52\u001b[0m \u001b[0;32mif\u001b[0m \u001b[0m__name__\u001b[0m \u001b[0;34m==\u001b[0m \u001b[0;34m\"__main__\"\u001b[0m\u001b[0;34m:\u001b[0m\u001b[0;34m\u001b[0m\u001b[0;34m\u001b[0m\u001b[0m\n\u001b[0;32m---> 53\u001b[0;31m   \u001b[0mguessing_game\u001b[0m\u001b[0;34m(\u001b[0m\u001b[0mword_hints\u001b[0m\u001b[0;34m)\u001b[0m\u001b[0;34m\u001b[0m\u001b[0;34m\u001b[0m\u001b[0m\n\u001b[0m",
            "\u001b[0;32m<ipython-input-2-a9abbe51110c>\u001b[0m in \u001b[0;36mguessing_game\u001b[0;34m(word_hints)\u001b[0m\n\u001b[1;32m     37\u001b[0m         \u001b[0;32mwhile\u001b[0m \u001b[0mattempts\u001b[0m \u001b[0;34m<\u001b[0m \u001b[0mlen\u001b[0m\u001b[0;34m(\u001b[0m\u001b[0mhints\u001b[0m\u001b[0;34m)\u001b[0m\u001b[0;34m:\u001b[0m\u001b[0;34m\u001b[0m\u001b[0;34m\u001b[0m\u001b[0m\n\u001b[1;32m     38\u001b[0m             \u001b[0mprint\u001b[0m\u001b[0;34m(\u001b[0m\u001b[0;34mf\"Hint {attempts + 1}: {hints[attempts]}\"\u001b[0m\u001b[0;34m)\u001b[0m\u001b[0;34m\u001b[0m\u001b[0;34m\u001b[0m\u001b[0m\n\u001b[0;32m---> 39\u001b[0;31m             \u001b[0mguess\u001b[0m \u001b[0;34m=\u001b[0m \u001b[0minput\u001b[0m\u001b[0;34m(\u001b[0m\u001b[0;34m\"Your guess: \"\u001b[0m\u001b[0;34m)\u001b[0m\u001b[0;34m.\u001b[0m\u001b[0mstrip\u001b[0m\u001b[0;34m(\u001b[0m\u001b[0;34m)\u001b[0m\u001b[0;34m.\u001b[0m\u001b[0mlower\u001b[0m\u001b[0;34m(\u001b[0m\u001b[0;34m)\u001b[0m\u001b[0;34m\u001b[0m\u001b[0;34m\u001b[0m\u001b[0m\n\u001b[0m\u001b[1;32m     40\u001b[0m \u001b[0;34m\u001b[0m\u001b[0m\n\u001b[1;32m     41\u001b[0m             \u001b[0;32mif\u001b[0m \u001b[0mguess\u001b[0m \u001b[0;34m==\u001b[0m \u001b[0mword\u001b[0m\u001b[0;34m.\u001b[0m\u001b[0mlower\u001b[0m\u001b[0;34m(\u001b[0m\u001b[0;34m)\u001b[0m\u001b[0;34m:\u001b[0m\u001b[0;34m\u001b[0m\u001b[0;34m\u001b[0m\u001b[0m\n",
            "\u001b[0;32m/usr/local/lib/python3.9/dist-packages/ipykernel/kernelbase.py\u001b[0m in \u001b[0;36mraw_input\u001b[0;34m(self, prompt)\u001b[0m\n\u001b[1;32m    849\u001b[0m                 \u001b[0;34m\"raw_input was called, but this frontend does not support input requests.\"\u001b[0m\u001b[0;34m\u001b[0m\u001b[0;34m\u001b[0m\u001b[0m\n\u001b[1;32m    850\u001b[0m             )\n\u001b[0;32m--> 851\u001b[0;31m         return self._input_request(str(prompt),\n\u001b[0m\u001b[1;32m    852\u001b[0m             \u001b[0mself\u001b[0m\u001b[0;34m.\u001b[0m\u001b[0m_parent_ident\u001b[0m\u001b[0;34m,\u001b[0m\u001b[0;34m\u001b[0m\u001b[0;34m\u001b[0m\u001b[0m\n\u001b[1;32m    853\u001b[0m             \u001b[0mself\u001b[0m\u001b[0;34m.\u001b[0m\u001b[0m_parent_header\u001b[0m\u001b[0;34m,\u001b[0m\u001b[0;34m\u001b[0m\u001b[0;34m\u001b[0m\u001b[0m\n",
            "\u001b[0;32m/usr/local/lib/python3.9/dist-packages/ipykernel/kernelbase.py\u001b[0m in \u001b[0;36m_input_request\u001b[0;34m(self, prompt, ident, parent, password)\u001b[0m\n\u001b[1;32m    893\u001b[0m             \u001b[0;32mexcept\u001b[0m \u001b[0mKeyboardInterrupt\u001b[0m\u001b[0;34m:\u001b[0m\u001b[0;34m\u001b[0m\u001b[0;34m\u001b[0m\u001b[0m\n\u001b[1;32m    894\u001b[0m                 \u001b[0;31m# re-raise KeyboardInterrupt, to truncate traceback\u001b[0m\u001b[0;34m\u001b[0m\u001b[0;34m\u001b[0m\u001b[0m\n\u001b[0;32m--> 895\u001b[0;31m                 \u001b[0;32mraise\u001b[0m \u001b[0mKeyboardInterrupt\u001b[0m\u001b[0;34m(\u001b[0m\u001b[0;34m\"Interrupted by user\"\u001b[0m\u001b[0;34m)\u001b[0m \u001b[0;32mfrom\u001b[0m \u001b[0;32mNone\u001b[0m\u001b[0;34m\u001b[0m\u001b[0;34m\u001b[0m\u001b[0m\n\u001b[0m\u001b[1;32m    896\u001b[0m             \u001b[0;32mexcept\u001b[0m \u001b[0mException\u001b[0m \u001b[0;32mas\u001b[0m \u001b[0me\u001b[0m\u001b[0;34m:\u001b[0m\u001b[0;34m\u001b[0m\u001b[0;34m\u001b[0m\u001b[0m\n\u001b[1;32m    897\u001b[0m                 \u001b[0mself\u001b[0m\u001b[0;34m.\u001b[0m\u001b[0mlog\u001b[0m\u001b[0;34m.\u001b[0m\u001b[0mwarning\u001b[0m\u001b[0;34m(\u001b[0m\u001b[0;34m\"Invalid Message:\"\u001b[0m\u001b[0;34m,\u001b[0m \u001b[0mexc_info\u001b[0m\u001b[0;34m=\u001b[0m\u001b[0;32mTrue\u001b[0m\u001b[0;34m)\u001b[0m\u001b[0;34m\u001b[0m\u001b[0;34m\u001b[0m\u001b[0m\n",
            "\u001b[0;31mKeyboardInterrupt\u001b[0m: Interrupted by user"
          ]
        }
      ]
    },
    {
      "cell_type": "markdown",
      "source": [
        "##💦**Demo 2: Convert a statement to a yes-no question**"
      ],
      "metadata": {
        "id": "DKwjeU8pW-iu"
      }
    },
    {
      "cell_type": "code",
      "source": [
        "#@markdown Install and import libraries\n",
        "%%capture\n",
        "!pip install gtts\n",
        "!pip install IPython\n",
        "from gtts import gTTS\n",
        "from IPython.display import Audio, display\n",
        "\n",
        "#@markdown etts(), ktts()\n",
        "def etts(text):\n",
        "  text_to_say = text\n",
        "\n",
        "  gtts_object = gTTS(text = text_to_say,\n",
        "                     lang = \"en\",\n",
        "                    slow = False)\n",
        "  \n",
        "  gtts_object.save(\"E-audio.mp3\")\n",
        "  return Audio(\"E-audio.mp3\")\n",
        "\n",
        "def ktts(text):\n",
        "  text_to_say = text\n",
        "\n",
        "  gtts_object = gTTS(text = text_to_say,\n",
        "                     lang = \"ko\",\n",
        "                    slow = False)\n",
        "  \n",
        "  gtts_object.save(\"K-audio.mp3\")\n",
        "  return Audio(\"K-audio.mp3\")"
      ],
      "metadata": {
        "cellView": "form",
        "id": "TajMEehr8_7D"
      },
      "execution_count": 3,
      "outputs": []
    },
    {
      "cell_type": "markdown",
      "source": [
        "---\n",
        "### Complete version with some restriction \n",
        "\n",
        "1. The statement you're entering must contain a be-verb.\n",
        "2. If you use a proper noun as a subject, restrict it to one of the followings: \n",
        "\n",
        "> **Male: Tom, Thomas, Bill**\n",
        "\n",
        "> **Female: Mary, Jane, Jessica**\n",
        "\n",
        "2. Must contain a punctuation(.)\n",
        "---"
      ],
      "metadata": {
        "id": "5XYJaX2IDrOu"
      }
    },
    {
      "cell_type": "code",
      "source": [
        "#@markdown Statment to a Yes-No question (Audio autoplay)\n",
        "sentence = input(\"Type a sentence containing a be verb: e.g., I am a students.\\n\")\n",
        "beverbs = [\"is\", \"was\", \"are\", \"were\"]\n",
        "pronouns = [\"I\",\"You\",\"He\",\"She\",\"They\",\"It\"]\n",
        "names = [\"Mary\", \"Jane\", \"Tom\",\"Thomas\",\"Jessica\", \"Bill\"]\n",
        "\n",
        "def check_word(list_A, list_B):\n",
        "    for a in list_A:\n",
        "        for b in list_B:\n",
        "            if b in a:\n",
        "                mword = a\n",
        "                return True, mword\n",
        "    return False, None\n",
        "\n",
        "\n",
        "cat1 = sentence.split()\n",
        "\n",
        "result = check_word(cat1,beverbs)\n",
        "\n",
        "if result[0] == True:\n",
        "  if cat1[0] in pronouns:\n",
        "      b = result[1]\n",
        "      be = \" \"+b+\" \"\n",
        "      ss = sentence.split(be)\n",
        "      subj = ss[0]\n",
        "      nsubj = subj[0].lower()+subj[1:]\n",
        "      pred = ss[1]\n",
        "      w1 = b[0].upper() + b[1:] # Capitalized be verb\n",
        "      newsent = w1 + \" \" + nsubj + \" \" + pred[:-1] + \"?\"\n",
        "      mytext = \"I'll make it to a yes-no question: \" + newsent\n",
        "      print(\"Yes-no question: \", newsent)\n",
        "  elif cat1[0] not in pronouns and cat1[0] in names:\n",
        "        b = result[1]\n",
        "        be = \" \"+b+\" \"\n",
        "        ss = sentence.split(be)\n",
        "        subj = ss[0]\n",
        "        pred = ss[1]\n",
        "        w1 = b[0].upper() + b[1:] # Capitalized be verb\n",
        "        newsent = w1 + \" \" + subj + \" \" + pred[:-1] + \"?\"\n",
        "        mytext = \"I'll make it to a yes-no question: \" + newsent\n",
        "        print(\"Yes-no question: \", newsent)\n",
        "  elif cat1[0] not in pronouns and cat1[0] not in names:\n",
        "        b = result[1]\n",
        "        be = \" \"+b+\" \"\n",
        "        ss = sentence.split(be)\n",
        "        subj = ss[0]\n",
        "        nsubj = subj[0].lower()+subj[1:]\n",
        "        pred = ss[1]\n",
        "        w1 = b[0].upper() + b[1:] # Capitalized be verb\n",
        "        newsent = w1 + \" \" + nsubj + \" \" + pred[:-1] + \"?\"\n",
        "        mytext = \"I'll make it to a yes-no question: \" + newsent\n",
        "        print(\"Yes-no question: \", newsent)\n",
        "\n",
        "else:\n",
        "    mytext = \"The sentence you\\' provided does not contain a 'Be' verb. Try again.\"\n",
        "    print(\"Type a sentence that contains a be verb.\")\n",
        "\n",
        "etts(mytext)\n",
        "Audio(\"E-audio.mp3\",autoplay=True)"
      ],
      "metadata": {
        "cellView": "form",
        "id": "ZjPSWFub-55P",
        "outputId": "b849573b-b13a-4cf1-c149-406bace57183",
        "colab": {
          "base_uri": "https://localhost:8080/",
          "height": 129
        }
      },
      "execution_count": 5,
      "outputs": [
        {
          "output_type": "stream",
          "name": "stdout",
          "text": [
            "Type a sentence containing a be verb: e.g., I am a students.\n",
            "A little boy is sleeping.\n",
            "Yes-no question:  Is a little boy sleeping?\n"
          ]
        },
        {
          "output_type": "execute_result",
          "data": {
            "text/plain": [
              "<IPython.lib.display.Audio object>"
            ],
            "text/html": [
              "\n",
              "                <audio  controls=\"controls\" autoplay=\"autoplay\">\n",
              "                    <source src=\"data:audio/mpeg;base64,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\" type=\"audio/mpeg\" />\n",
              "                    Your browser does not support the audio element.\n",
              "                </audio>\n",
              "              "
            ]
          },
          "metadata": {},
          "execution_count": 5
        }
      ]
    },
    {
      "cell_type": "markdown",
      "source": [
        "## 💦**Demo 3: Story game**"
      ],
      "metadata": {
        "id": "UG0_f0gJQl1r"
      }
    },
    {
      "cell_type": "code",
      "source": [
        "#@markdown Adventure game with reading\n",
        "print(\"Welcome to the adventure game!\")\n",
        "print(\"=\"*50)\n",
        "print(\"You are a high school student who has been chosen to embark on a quest to save your town from a mysterious curse.\")\n",
        "print(\"You will face various challenges and choices along the way, and your decisions will determine the outcome of the story.\")\n",
        "print(\"=\"*50)\n",
        "name = input(\"What is your name? \")\n",
        "print(\"=\"*50)\n",
        "print(f\"Nice to meet you, {name}! Are you ready to begin?\")\n",
        "print(\"=\"*50)\n",
        "# Start of the story\n",
        "print(\"You wake up one morning to find that your town is covered in a thick fog.\")\n",
        "print(\"People are starting to get sick, and strange things are happening.\")\n",
        "print(\"You decide to investigate and find out that a curse has been cast upon the town.\")\n",
        "print(\"You meet a wise old sage who tells you that the only way to lift the curse is to find a magical artifact that is hidden in a dangerous dungeon.\")\n",
        "print(\"=\"*50)\n",
        "# First choice\n",
        "print(\"You have two options:\")\n",
        "print(\"Option 1: Search for clues in the town.\")\n",
        "print(\"Option 2: Go straight to the dungeon.\")\n",
        "print(\"=\"*50)\n",
        "choice = input(\"Which option do you choose? (1 or 2) \")\n",
        "print(\"=\"*50)\n",
        "if choice == \"1\":\n",
        "    print(\"You spend the day talking to townspeople and searching for clues.\")\n",
        "    print(\"You find a cryptic message that leads you to a hidden cave.\")\n",
        "elif choice == \"2\":\n",
        "    print(\"You journey to the dungeon and face many dangers along the way.\")\n",
        "    print(\"You eventually reach the entrance to the dungeon.\")\n",
        "print(\"=\"*50)\n",
        "# Second choice\n",
        "print(\"You have two options:\")\n",
        "print(\"Option 1: Enter the cave.\")\n",
        "print(\"Option 2: Enter the dungeon.\")\n",
        "print(\"=\"*50)\n",
        "choice = input(\"Which option do you choose? (1 or 2) \")\n",
        "print(\"=\"*50)\n",
        "if choice == \"1\":\n",
        "    print(\"=\"*50)\n",
        "    print(\"You enter the cave and find the magical artifact!\")\n",
        "    print(\"You bring it back to the town and the curse is lifted.\")\n",
        "    print(\"Congratulations! You have saved the town!\")\n",
        "    print(\"=\"*50)\n",
        "elif choice == \"2\":\n",
        "    print(\"=\"*50)\n",
        "    print(\"You enter the dungeon and face many challenges.\")\n",
        "    print(\"You eventually find the magical artifact, but it is guarded by a powerful monster.\")\n",
        "    print(\"You must defeat the monster to retrieve the artifact.\")\n",
        "    print(\"You engage in a fierce battle!\")\n",
        "    print(\"You lost the battle and the curse remains.\")\n",
        "    print(\"Brave You! Though the curse remains, people appreicate your effort.\")\n",
        "    print(\"=\"*50)\n"
      ],
      "metadata": {
        "cellView": "form",
        "id": "qBAUNW9qP75J",
        "outputId": "bbc17546-ab86-482d-d42f-60602f8136dd",
        "colab": {
          "base_uri": "https://localhost:8080/"
        }
      },
      "execution_count": 6,
      "outputs": [
        {
          "output_type": "stream",
          "name": "stdout",
          "text": [
            "Welcome to the adventure game!\n",
            "==================================================\n",
            "You are a high school student who has been chosen to embark on a quest to save your town from a mysterious curse.\n",
            "You will face various challenges and choices along the way, and your decisions will determine the outcome of the story.\n",
            "==================================================\n",
            "What is your name? Sunyoo\n",
            "==================================================\n",
            "Nice to meet you, Sunyoo! Are you ready to begin?\n",
            "==================================================\n",
            "You wake up one morning to find that your town is covered in a thick fog.\n",
            "People are starting to get sick, and strange things are happening.\n",
            "You decide to investigate and find out that a curse has been cast upon the town.\n",
            "You meet a wise old sage who tells you that the only way to lift the curse is to find a magical artifact that is hidden in a dangerous dungeon.\n",
            "==================================================\n",
            "You have two options:\n",
            "Option 1: Search for clues in the town.\n",
            "Option 2: Go straight to the dungeon.\n",
            "==================================================\n",
            "Which option do you choose? (1 or 2) 1\n",
            "==================================================\n",
            "You spend the day talking to townspeople and searching for clues.\n",
            "You find a cryptic message that leads you to a hidden cave.\n",
            "==================================================\n",
            "You have two options:\n",
            "Option 1: Enter the cave.\n",
            "Option 2: Enter the dungeon.\n",
            "==================================================\n",
            "Which option do you choose? (1 or 2) 1\n",
            "==================================================\n",
            "==================================================\n",
            "You enter the cave and find the magical artifact!\n",
            "You bring it back to the town and the curse is lifted.\n",
            "Congratulations! You have saved the town!\n",
            "==================================================\n"
          ]
        }
      ]
    },
    {
      "cell_type": "code",
      "source": [
        "#@markdown Story game with listening (audio)\n",
        "from gtts import gTTS\n",
        "import IPython.display as ipd\n",
        "\n",
        "def play_audio(text):\n",
        "    language = 'en'\n",
        "    audio = gTTS(text=text, lang=language, slow=False)\n",
        "    audio.save(\"audio.mp3\")\n",
        "    ipd.display(ipd.Audio(\"audio.mp3\", autoplay=True))\n",
        "\n",
        "# Introduction\n",
        "play_audio(\"Welcome to the story game. You are walking home from school when you hear footsteps behind you. You look back and see a shady figure in the distance. What do you do?\")\n",
        "ipd.clear_output(wait=True)\n",
        "input(\"Press Enter to continue...\")\n",
        "\n",
        "# Stage 1\n",
        "play_audio(\"You decide to run. Do you run towards the park or towards the busy street?\")\n",
        "ipd.clear_output(wait=True)\n",
        "choice = input(\"Enter 1 to run towards the park, or 2 to run towards the busy street: \")\n",
        "if choice == \"1\":\n",
        "    play_audio(\"You run towards the park and manage to lose the shady figure. You continue walking home and make it back safely.\")\n",
        "elif choice == \"2\":\n",
        "    play_audio(\"You run towards the busy street, hoping to find someone to help you. As you get closer, you realize that the figure is a police officer. You stop and explain what happened, and the officer escorts you home safely.\")\n",
        "ipd.clear_output(wait=True)\n",
        "input(\"Press Enter to continue...\")\n",
        "\n",
        "# Stage 2\n",
        "play_audio(\"You arrive home and find that your front door is slightly open. Do you go inside or call the police?\")\n",
        "ipd.clear_output(wait=True)\n",
        "choice = input(\"Enter 1 to go inside, or 2 to call the police: \")\n",
        "if choice == \"1\":\n",
        "    play_audio(\"You cautiously enter your home and find that everything is as you left it. You breathe a sigh of relief and go about your evening.\")\n",
        "elif choice == \"2\":\n",
        "    play_audio(\"You call the police and they arrive shortly after. They search your home and find no one inside. You spend the night at a friend's house and return home the next day.\")\n",
        "ipd.clear_output(wait=True)\n",
        "input(\"Press Enter to continue...\")\n",
        "\n",
        "# Conclusion\n",
        "play_audio(\"Good choice! you have successfully made it home safely. Thanks for playing!\")\n",
        "ipd.clear_output(wait=True)\n"
      ],
      "metadata": {
        "cellView": "form",
        "id": "mx_BDEl-TqLe"
      },
      "execution_count": null,
      "outputs": []
    },
    {
      "cell_type": "markdown",
      "source": [
        "---\n",
        "# 📙Concepts and elements to cover for our goal:\n",
        "\n",
        "0. Importing modules: Explain how to import a module (like random) and use its functions (like random.shuffle()).\n",
        "\n",
        "1. Python basics: Basic data types (strings, integers, lists, dictionaries), variables, and basic input/output functions (like print() and input()).\n",
        "\n",
        "2. String manipulation: Cover string methods like .strip() and .lower().\n",
        "3. Control structures: Introduce for loops, while loops, and conditional statements (if, elif, else).\n",
        "\n",
        "4. Functions: Explain how to define and use functions, including function parameters. \n",
        "\n",
        "5. F-strings: Introduce f-strings (formatted string literals) and how to embed expressions inside string literals using curly braces {}.\n",
        "---"
      ],
      "metadata": {
        "id": "2VMRdKbJwOsk"
      }
    },
    {
      "cell_type": "markdown",
      "source": [
        "# [0] Importing modules\n",
        "\n",
        "1. **function, (class), module, package, and library**\n",
        "\n",
        "> (class) > functions\n",
        "\n",
        "\n",
        "2. Let's use the analogy of a toolbox: \n",
        "\n",
        "+ **a module** is a single tool, (e.g., random) \n",
        "+ **a package** is a toolbox containing multiple tools (e.g., gTTS)\n",
        "+ **a library** is a set of toolboxes designed for a specific purpose. (e.g., nltk - Natural Language Tool Kit) _>> Next time_"
      ],
      "metadata": {
        "id": "wgZEzhkQwzc3"
      }
    },
    {
      "cell_type": "markdown",
      "source": [
        "##A. 'gTTS' package"
      ],
      "metadata": {
        "id": "298wKG9q7-rN"
      }
    },
    {
      "cell_type": "code",
      "source": [
        "!pip install gtts\n",
        "!pip install IPython\n",
        "from gtts import gTTS\n",
        "from IPython.display import Audio, display"
      ],
      "metadata": {
        "id": "YLCRqNbW8E9J"
      },
      "execution_count": null,
      "outputs": []
    },
    {
      "cell_type": "markdown",
      "source": [
        ",로 여러가지를 불러올 수 있음음"
      ],
      "metadata": {
        "id": "CpKhMGj7VVIk"
      }
    },
    {
      "cell_type": "code",
      "source": [
        "#@markdown etts(), ktts()\n",
        "def etts(text):\n",
        "  text_to_say = text\n",
        "\n",
        "  gtts_object = gTTS(text = text_to_say,\n",
        "                     lang = \"en\",\n",
        "                    slow = False)\n",
        "  \n",
        "  gtts_object.save(\"E-audio.mp3\")\n",
        "  return Audio(\"E-audio.mp3\")\n",
        "\n",
        "def ktts(text):\n",
        "  text_to_say = text\n",
        "\n",
        "  gtts_object = gTTS(text = text_to_say,\n",
        "                     lang = \"ko\",\n",
        "                    slow = False)\n",
        "  \n",
        "  gtts_object.save(\"K-audio.mp3\")\n",
        "  return Audio(\"K-audio.mp3\")"
      ],
      "metadata": {
        "id": "bYDfENzGRUFb"
      },
      "execution_count": 7,
      "outputs": []
    },
    {
      "cell_type": "markdown",
      "source": [
        "## B. 'random' module\n",
        "\n",
        "[Random Picker App using 'random'](https://github.com/MK316/Spring2023/blob/main/RandomPickerS23.ipynb)"
      ],
      "metadata": {
        "id": "vSFe_Umb68o9"
      }
    },
    {
      "cell_type": "code",
      "source": [
        "import random"
      ],
      "metadata": {
        "id": "t8tYICF_1Yx8"
      },
      "execution_count": 8,
      "outputs": []
    },
    {
      "cell_type": "markdown",
      "source": [
        "Return a number between 3 and 9 (both included):"
      ],
      "metadata": {
        "id": "RlWQ5dXark-r"
      }
    },
    {
      "cell_type": "code",
      "source": [
        "random.randint(1, 10) #random.randint(x,y)는 함수이므로 문법대로 사용해야 함."
      ],
      "metadata": {
        "colab": {
          "base_uri": "https://localhost:8080/"
        },
        "id": "sMf1Ow7W11EZ",
        "outputId": "da8b1a5c-a3ca-40b8-84a5-c619f7b553bd"
      },
      "execution_count": 13,
      "outputs": [
        {
          "output_type": "execute_result",
          "data": {
            "text/plain": [
              "6"
            ]
          },
          "metadata": {},
          "execution_count": 13
        }
      ]
    },
    {
      "cell_type": "code",
      "source": [
        "a1 = random.randint(1, 10)\n",
        "a1*10  #변수를 이용하면 결과값을 이용한 다른 연산이나 작업이 가능하다."
      ],
      "metadata": {
        "colab": {
          "base_uri": "https://localhost:8080/"
        },
        "id": "WUVN9-Rs825s",
        "outputId": "0d7c6de4-14a0-4cff-db9e-974528465034"
      },
      "execution_count": 17,
      "outputs": [
        {
          "output_type": "execute_result",
          "data": {
            "text/plain": [
              "10"
            ]
          },
          "metadata": {},
          "execution_count": 17
        }
      ]
    },
    {
      "cell_type": "markdown",
      "source": [
        "# [1] Python basics: \n",
        "\n",
        "+ Basic data types (strings, integers, lists, dictionaries), \n",
        "+ variables, \n",
        "+ basic input/output functions (like print() and input()).\n",
        "\n"
      ],
      "metadata": {
        "id": "_vTm-kXl8qa_"
      }
    },
    {
      "cell_type": "markdown",
      "source": [
        "## [1-1] Basic data types"
      ],
      "metadata": {
        "id": "qaQ0_hkoENRX"
      }
    },
    {
      "cell_type": "markdown",
      "source": [
        "### A. strings"
      ],
      "metadata": {
        "id": "HB86s1k990Hh"
      }
    },
    {
      "cell_type": "code",
      "source": [
        "a2 = \"Welcome\"\n",
        "a3 = \"2023\""
      ],
      "metadata": {
        "id": "L_OImwSL94Kr"
      },
      "execution_count": null,
      "outputs": []
    },
    {
      "cell_type": "markdown",
      "source": [
        "☺️ DIY: How to get \"Welcome, 2023!\""
      ],
      "metadata": {
        "id": "wkYUBwu1-IvG"
      }
    },
    {
      "cell_type": "code",
      "source": [],
      "metadata": {
        "id": "XZ2LHJcl9_u4",
        "outputId": "f6b592bd-8a7f-4b62-e14f-f97e80cdece8",
        "colab": {
          "base_uri": "https://localhost:8080/",
          "height": 35
        }
      },
      "execution_count": null,
      "outputs": [
        {
          "output_type": "execute_result",
          "data": {
            "text/plain": [
              "'Welcome, 2023!'"
            ],
            "application/vnd.google.colaboratory.intrinsic+json": {
              "type": "string"
            }
          },
          "metadata": {},
          "execution_count": 20
        }
      ]
    },
    {
      "cell_type": "markdown",
      "source": [
        "☺️ DIY: Let a4 = \"화이팅\", and get '화이팅화이팅화이팅화이팅화이팅화이팅화이팅화이팅화이팅화이팅'(10번)"
      ],
      "metadata": {
        "id": "WNaHBznU-yEd"
      }
    },
    {
      "cell_type": "code",
      "source": [],
      "metadata": {
        "id": "0vfPcih3-xg4",
        "outputId": "be3891a2-8eba-4f0b-a31b-9e0ed445871a",
        "colab": {
          "base_uri": "https://localhost:8080/",
          "height": 35
        }
      },
      "execution_count": null,
      "outputs": [
        {
          "output_type": "execute_result",
          "data": {
            "text/plain": [
              "'화이팅화이팅화이팅화이팅화이팅화이팅화이팅화이팅화이팅화이팅'"
            ],
            "application/vnd.google.colaboratory.intrinsic+json": {
              "type": "string"
            }
          },
          "metadata": {},
          "execution_count": 21
        }
      ]
    },
    {
      "cell_type": "code",
      "source": [
        "type(a2). # data type of the variable a2"
      ],
      "metadata": {
        "colab": {
          "base_uri": "https://localhost:8080/"
        },
        "id": "1XroWNyGADZU",
        "outputId": "05a0322b-a18c-401f-8aa2-ec8a7975d907"
      },
      "execution_count": null,
      "outputs": [
        {
          "output_type": "execute_result",
          "data": {
            "text/plain": [
              "str"
            ]
          },
          "metadata": {},
          "execution_count": 22
        }
      ]
    },
    {
      "cell_type": "markdown",
      "source": [
        "###B. Integers, float"
      ],
      "metadata": {
        "id": "kpNXrqZ2_9I2"
      }
    },
    {
      "cell_type": "code",
      "source": [
        "x1 = 45; y1 = 0.5\n",
        "x1 * y1"
      ],
      "metadata": {
        "colab": {
          "base_uri": "https://localhost:8080/"
        },
        "id": "CEs2BHNbAB1Q",
        "outputId": "e63af813-d7ca-422b-91d2-75a50ef4564e"
      },
      "execution_count": null,
      "outputs": [
        {
          "output_type": "execute_result",
          "data": {
            "text/plain": [
              "22.5"
            ]
          },
          "metadata": {},
          "execution_count": 23
        }
      ]
    },
    {
      "cell_type": "code",
      "source": [],
      "metadata": {
        "id": "2WarI3IQsRJX",
        "outputId": "8304e3e2-9753-45f0-adb6-b2da469a304a",
        "colab": {
          "base_uri": "https://localhost:8080/"
        }
      },
      "execution_count": null,
      "outputs": [
        {
          "output_type": "execute_result",
          "data": {
            "text/plain": [
              "float"
            ]
          },
          "metadata": {},
          "execution_count": 24
        }
      ]
    },
    {
      "cell_type": "markdown",
      "source": [
        "### C. List datatype"
      ],
      "metadata": {
        "id": "S7PJcJFkBO46"
      }
    },
    {
      "cell_type": "code",
      "source": [
        "x2 = [1,2,3]\n",
        "x2"
      ],
      "metadata": {
        "colab": {
          "base_uri": "https://localhost:8080/"
        },
        "id": "LjSEH6lABR98",
        "outputId": "eb284b7f-40ef-48c5-ea6f-926543a1ee7b"
      },
      "execution_count": null,
      "outputs": [
        {
          "output_type": "execute_result",
          "data": {
            "text/plain": [
              "[1, 2, 3]"
            ]
          },
          "metadata": {},
          "execution_count": 26
        }
      ]
    },
    {
      "cell_type": "markdown",
      "source": [
        "x2[index]: Python index starts from 0"
      ],
      "metadata": {
        "id": "xcPyj0Fesdiu"
      }
    },
    {
      "cell_type": "code",
      "source": [
        "x2[0]"
      ],
      "metadata": {
        "id": "VGWl1av6BYGu"
      },
      "execution_count": null,
      "outputs": []
    },
    {
      "cell_type": "code",
      "source": [
        "# range(x,y)\n",
        "x3 = range(1,10)\n",
        "list(x3)  #list(), range(1,10)"
      ],
      "metadata": {
        "colab": {
          "base_uri": "https://localhost:8080/"
        },
        "id": "WNmjoCQ1ANr4",
        "outputId": "9e1cf838-bd7f-47f5-def6-731599ef24a5"
      },
      "execution_count": null,
      "outputs": [
        {
          "output_type": "execute_result",
          "data": {
            "text/plain": [
              "[1, 2, 3, 4, 5, 6, 7, 8, 9]"
            ]
          },
          "metadata": {},
          "execution_count": 28
        }
      ]
    },
    {
      "cell_type": "code",
      "source": [
        "x4 = \"John\"\n",
        "list(x4)"
      ],
      "metadata": {
        "colab": {
          "base_uri": "https://localhost:8080/"
        },
        "id": "amRP-ytuBlO6",
        "outputId": "a8eeef49-a6aa-4452-f9e2-d933278c0bdc"
      },
      "execution_count": null,
      "outputs": [
        {
          "output_type": "execute_result",
          "data": {
            "text/plain": [
              "['J', 'o', 'h', 'n']"
            ]
          },
          "metadata": {},
          "execution_count": 29
        }
      ]
    },
    {
      "cell_type": "markdown",
      "source": [
        "###D. Dictionary datatype: {'key':'value'}\n",
        "\n",
        "In Python, a dictionary is a built-in data type that represents a collection of key-value pairs. Each key-value pair in a dictionary is separated by a colon (:), and each pair is separated by a comma. "
      ],
      "metadata": {
        "id": "ZoyOSN_QCCdO"
      }
    },
    {
      "cell_type": "code",
      "source": [
        "mydict = {\"API\":\"Application Programming Interface\", \"GPT\":\"Generative Pretrained Transformer\"}\n",
        "mydict['API']"
      ],
      "metadata": {
        "colab": {
          "base_uri": "https://localhost:8080/",
          "height": 35
        },
        "id": "PdRkfL3JBMWK",
        "outputId": "0e165aee-8079-4359-c38e-64e33c14c9ac"
      },
      "execution_count": null,
      "outputs": [
        {
          "output_type": "execute_result",
          "data": {
            "text/plain": [
              "'Application Programming Interface'"
            ],
            "application/vnd.google.colaboratory.intrinsic+json": {
              "type": "string"
            }
          },
          "metadata": {},
          "execution_count": 30
        }
      ]
    },
    {
      "cell_type": "code",
      "source": [
        "mydict['GPT']"
      ],
      "metadata": {
        "id": "muVfPouBs47b",
        "outputId": "1d08be3c-9e45-4a57-c0e4-1d7ff7368986",
        "colab": {
          "base_uri": "https://localhost:8080/",
          "height": 35
        }
      },
      "execution_count": null,
      "outputs": [
        {
          "output_type": "execute_result",
          "data": {
            "text/plain": [
              "'Generative Pretrained Transformer'"
            ],
            "application/vnd.google.colaboratory.intrinsic+json": {
              "type": "string"
            }
          },
          "metadata": {},
          "execution_count": 31
        }
      ]
    },
    {
      "cell_type": "code",
      "source": [
        "class_size = {\"Class A\": 25, \"Class B\": 30, \"Class C\": 32}\n",
        "class_size['Class C']"
      ],
      "metadata": {
        "colab": {
          "base_uri": "https://localhost:8080/"
        },
        "id": "WBs-NrEJDQRC",
        "outputId": "6c9a6b9f-6471-4424-a133-d47bb0d08f8c"
      },
      "execution_count": null,
      "outputs": [
        {
          "output_type": "execute_result",
          "data": {
            "text/plain": [
              "32"
            ]
          },
          "metadata": {},
          "execution_count": 32
        }
      ]
    },
    {
      "cell_type": "markdown",
      "source": [
        "## [1-2] Variables"
      ],
      "metadata": {
        "id": "0m_ux_SoEUos"
      }
    },
    {
      "cell_type": "markdown",
      "source": [
        "## [1-3] input/output functions"
      ],
      "metadata": {
        "id": "YUasz63dEYAX"
      }
    },
    {
      "cell_type": "code",
      "source": [
        "mynumber = 2\n",
        "mynumber"
      ],
      "metadata": {
        "colab": {
          "base_uri": "https://localhost:8080/"
        },
        "id": "BSp7TWkeEfmz",
        "outputId": "3bcd84d2-c721-4bc7-da68-a245706b8b5c"
      },
      "execution_count": null,
      "outputs": [
        {
          "output_type": "execute_result",
          "data": {
            "text/plain": [
              "2"
            ]
          },
          "metadata": {},
          "execution_count": 87
        }
      ]
    },
    {
      "cell_type": "code",
      "source": [
        "yournumber = input()  # In Python, input() is a built-in function that allows you to get user input from the keyboard. \n",
        "yournumber"
      ],
      "metadata": {
        "colab": {
          "base_uri": "https://localhost:8080/",
          "height": 53
        },
        "id": "6LZudH_0En_w",
        "outputId": "783d5cc3-75a8-465a-963e-b294e0816f0a"
      },
      "execution_count": null,
      "outputs": [
        {
          "name": "stdout",
          "output_type": "stream",
          "text": [
            "4\n"
          ]
        },
        {
          "output_type": "execute_result",
          "data": {
            "text/plain": [
              "'4'"
            ],
            "application/vnd.google.colaboratory.intrinsic+json": {
              "type": "string"
            }
          },
          "metadata": {},
          "execution_count": 33
        }
      ]
    },
    {
      "cell_type": "markdown",
      "source": [
        "☺️ After running the code below, can you tell what the resulting output means?"
      ],
      "metadata": {
        "id": "-Z1mQqzlH4k5"
      }
    },
    {
      "cell_type": "code",
      "source": [
        "yournumber*5"
      ],
      "metadata": {
        "colab": {
          "base_uri": "https://localhost:8080/",
          "height": 35
        },
        "id": "5cGgSs3qHxG_",
        "outputId": "61f4269a-ed03-4cae-f717-7f70b0c34f76"
      },
      "execution_count": null,
      "outputs": [
        {
          "output_type": "execute_result",
          "data": {
            "text/plain": [
              "'44444'"
            ],
            "application/vnd.google.colaboratory.intrinsic+json": {
              "type": "string"
            }
          },
          "metadata": {},
          "execution_count": 34
        }
      ]
    },
    {
      "cell_type": "code",
      "source": [
        "type(yournumber)"
      ],
      "metadata": {
        "colab": {
          "base_uri": "https://localhost:8080/"
        },
        "id": "664rKEalISSY",
        "outputId": "5314bd92-1d93-4d40-d399-b18d7d3b8930"
      },
      "execution_count": null,
      "outputs": [
        {
          "output_type": "execute_result",
          "data": {
            "text/plain": [
              "str"
            ]
          },
          "metadata": {},
          "execution_count": 35
        }
      ]
    },
    {
      "cell_type": "code",
      "source": [
        "yournumber = int(yournumber) # changing the type of the value to integer\n",
        "type(yournumber)"
      ],
      "metadata": {
        "colab": {
          "base_uri": "https://localhost:8080/"
        },
        "id": "u_ocEyoAIVC4",
        "outputId": "cae55304-aabb-4b25-bf49-c0c051815f76"
      },
      "execution_count": null,
      "outputs": [
        {
          "output_type": "execute_result",
          "data": {
            "text/plain": [
              "int"
            ]
          },
          "metadata": {},
          "execution_count": 36
        }
      ]
    },
    {
      "cell_type": "markdown",
      "source": [
        "Getting output:"
      ],
      "metadata": {
        "id": "Z9Kzd8ZW7Bri"
      }
    },
    {
      "cell_type": "code",
      "source": [
        "# print() 함수 배우기\n",
        "print(\"대한민국\")\n",
        "\n",
        "a2 = \"화이팅!\"  # a1: variable(변수)\n",
        "print(a2)\n",
        "print(a2*10)\n",
        "print(\"화이팅 10번 합시다: \", a2*10)\n",
        "a2"
      ],
      "metadata": {
        "id": "aQXDo7u-4-18",
        "outputId": "d02c1b36-7980-4293-8168-c3d350b08205",
        "colab": {
          "base_uri": "https://localhost:8080/",
          "height": 105
        }
      },
      "execution_count": null,
      "outputs": [
        {
          "output_type": "stream",
          "name": "stdout",
          "text": [
            "대한민국\n",
            "화이팅!\n",
            "화이팅!화이팅!화이팅!화이팅!화이팅!화이팅!화이팅!화이팅!화이팅!화이팅!\n",
            "화이팅 10번 합시다:  화이팅!화이팅!화이팅!화이팅!화이팅!화이팅!화이팅!화이팅!화이팅!화이팅!\n"
          ]
        },
        {
          "output_type": "execute_result",
          "data": {
            "text/plain": [
              "'화이팅!'"
            ],
            "application/vnd.google.colaboratory.intrinsic+json": {
              "type": "string"
            }
          },
          "metadata": {},
          "execution_count": 37
        }
      ]
    },
    {
      "cell_type": "code",
      "source": [
        "print(a2)\n",
        "print(\"=\"*30)\n",
        "a1=random.randint(1,10)\n",
        "print(\"Random integer between 1 and 10:\", a1)"
      ],
      "metadata": {
        "colab": {
          "base_uri": "https://localhost:8080/"
        },
        "id": "0jdQu65F2ZWw",
        "outputId": "3a5d1c38-1e5a-4df4-8b8a-e7d3b08ce48b"
      },
      "execution_count": null,
      "outputs": [
        {
          "output_type": "stream",
          "name": "stdout",
          "text": [
            "화이팅!\n",
            "==============================\n",
            "Random integer between 1 and 10: 7\n"
          ]
        }
      ]
    },
    {
      "cell_type": "markdown",
      "source": [
        "☺️DIY: \n",
        "**Q: John and Mary have been together for many days. Ask Mary how many days it has been since she met John. Then you tell Mary how many hours it has been since she met John.**\n",
        "\n",
        "1. Set the variable 'day' to 24\n",
        "2. Set the variable 'num_day' for the input from the user. Get a number (number of days) from the user using input() function\n",
        "2. Calculate days to hours: set the variable 'hours' to the final result."
      ],
      "metadata": {
        "id": "cvkWAvetFtSP"
      }
    },
    {
      "cell_type": "code",
      "source": [
        "day = \n",
        "num_day = \n",
        "hours = \n",
        "print(\"The total hours passed since Mary met John are: \", hours, \"hours.\")"
      ],
      "metadata": {
        "id": "Fdezo9WD1zju",
        "outputId": "174b66de-637f-420b-f218-3dbcf86e8f5b",
        "colab": {
          "base_uri": "https://localhost:8080/"
        }
      },
      "execution_count": null,
      "outputs": [
        {
          "output_type": "stream",
          "name": "stdout",
          "text": [
            "How many days? 23\n",
            "The total hours passed since Mary met John are:  552 hours.\n"
          ]
        }
      ]
    },
    {
      "cell_type": "markdown",
      "source": [
        "#[2] String manipulation: strip() and .lower().\n",
        "\n"
      ],
      "metadata": {
        "id": "zzkVAfU61HDk"
      }
    },
    {
      "cell_type": "markdown",
      "source": [
        "### **data.strip()**\n",
        "\n",
        "+ In Python, strip() is a built-in string method that returns a copy of the string with leading and trailing characters removed. \n",
        "+ By default, strip() removes whitespace characters such as spaces, tabs, and newlines from the beginning and end of the string."
      ],
      "metadata": {
        "id": "sSi_PvE5LTeC"
      }
    },
    {
      "cell_type": "code",
      "source": [
        "w1 = \" Mary is friendly. \"\n",
        "w1"
      ],
      "metadata": {
        "colab": {
          "base_uri": "https://localhost:8080/",
          "height": 35
        },
        "id": "IUtU-qG81XIt",
        "outputId": "e220311b-615a-4482-fcf3-989e2bcf0a26"
      },
      "execution_count": null,
      "outputs": [
        {
          "output_type": "execute_result",
          "data": {
            "text/plain": [
              "' Mary is friendly. '"
            ],
            "application/vnd.google.colaboratory.intrinsic+json": {
              "type": "string"
            }
          },
          "metadata": {},
          "execution_count": 46
        }
      ]
    },
    {
      "cell_type": "code",
      "source": [
        "w1.strip()"
      ],
      "metadata": {
        "colab": {
          "base_uri": "https://localhost:8080/",
          "height": 35
        },
        "id": "ZAhdPbqVKr6e",
        "outputId": "cd233fa9-fd66-4f89-da29-02e5f8e8ddf7"
      },
      "execution_count": null,
      "outputs": [
        {
          "output_type": "execute_result",
          "data": {
            "text/plain": [
              "'Mary is friendly.'"
            ],
            "application/vnd.google.colaboratory.intrinsic+json": {
              "type": "string"
            }
          },
          "metadata": {},
          "execution_count": 47
        }
      ]
    },
    {
      "cell_type": "markdown",
      "source": [
        "### **data.split()**"
      ],
      "metadata": {
        "id": "JGPdtmu8MFgv"
      }
    },
    {
      "cell_type": "code",
      "source": [
        "w1 = \"Mary is friendly.\"\n",
        "w1.split()"
      ],
      "metadata": {
        "colab": {
          "base_uri": "https://localhost:8080/"
        },
        "id": "xbF1sJB9MIpw",
        "outputId": "b9175d5c-0146-44ee-a8dc-9e11d71cdbd9"
      },
      "execution_count": null,
      "outputs": [
        {
          "output_type": "execute_result",
          "data": {
            "text/plain": [
              "['Mary', 'is', 'friendly.']"
            ]
          },
          "metadata": {},
          "execution_count": 48
        }
      ]
    },
    {
      "cell_type": "code",
      "source": [
        "w2 = \"out-of-date\"\n",
        "w2.split('-')"
      ],
      "metadata": {
        "colab": {
          "base_uri": "https://localhost:8080/"
        },
        "id": "IudKgTjkMVQP",
        "outputId": "fffcbccf-0217-466c-bcc2-d35131bd60c7"
      },
      "execution_count": null,
      "outputs": [
        {
          "output_type": "execute_result",
          "data": {
            "text/plain": [
              "['out', 'of', 'date']"
            ]
          },
          "metadata": {},
          "execution_count": 49
        }
      ]
    },
    {
      "cell_type": "code",
      "source": [
        "w1 = \"Mary\"\n",
        "w2 = \"is\"\n",
        "w3 = \"friendly\""
      ],
      "metadata": {
        "id": "tGBOKKKtLvj7"
      },
      "execution_count": null,
      "outputs": []
    },
    {
      "cell_type": "code",
      "source": [
        "wordlist = [w1, w2, w3]\n",
        "wordlist"
      ],
      "metadata": {
        "colab": {
          "base_uri": "https://localhost:8080/"
        },
        "id": "c11AXGr0V_a4",
        "outputId": "f5a0b40c-c834-4888-c9fa-b243ac79243e"
      },
      "execution_count": null,
      "outputs": [
        {
          "output_type": "execute_result",
          "data": {
            "text/plain": [
              "['Mary', 'is', 'friendly']"
            ]
          },
          "metadata": {},
          "execution_count": 51
        }
      ]
    },
    {
      "cell_type": "markdown",
      "source": [
        "### **' '.join()**"
      ],
      "metadata": {
        "id": "Mb-LFWWPWn08"
      }
    },
    {
      "cell_type": "code",
      "source": [
        "' '.join(wordlist)"
      ],
      "metadata": {
        "colab": {
          "base_uri": "https://localhost:8080/",
          "height": 35
        },
        "id": "tZA7DsPPWGmA",
        "outputId": "90221f13-9bd2-40de-da6a-de32c074fb58"
      },
      "execution_count": null,
      "outputs": [
        {
          "output_type": "execute_result",
          "data": {
            "text/plain": [
              "'Mary is friendly'"
            ],
            "application/vnd.google.colaboratory.intrinsic+json": {
              "type": "string"
            }
          },
          "metadata": {},
          "execution_count": 52
        }
      ]
    },
    {
      "cell_type": "code",
      "source": [
        "'-'.join(wordlist)"
      ],
      "metadata": {
        "colab": {
          "base_uri": "https://localhost:8080/",
          "height": 35
        },
        "id": "EjLtWSL5WdYy",
        "outputId": "4ce99690-92b2-4ac7-b8c2-ee45569c21fe"
      },
      "execution_count": null,
      "outputs": [
        {
          "output_type": "execute_result",
          "data": {
            "text/plain": [
              "'Mary-is-friendly'"
            ],
            "application/vnd.google.colaboratory.intrinsic+json": {
              "type": "string"
            }
          },
          "metadata": {},
          "execution_count": 53
        }
      ]
    },
    {
      "cell_type": "markdown",
      "source": [
        "### **data.lower(), data.upper()**"
      ],
      "metadata": {
        "id": "PgCIMbbcL29X"
      }
    },
    {
      "cell_type": "code",
      "source": [
        "w1.lower()"
      ],
      "metadata": {
        "colab": {
          "base_uri": "https://localhost:8080/",
          "height": 35
        },
        "id": "JGqTVM22MuH0",
        "outputId": "118e59a5-ab1a-4271-98b6-5e38fd509488"
      },
      "execution_count": null,
      "outputs": [
        {
          "output_type": "execute_result",
          "data": {
            "text/plain": [
              "'mary'"
            ],
            "application/vnd.google.colaboratory.intrinsic+json": {
              "type": "string"
            }
          },
          "metadata": {},
          "execution_count": 54
        }
      ]
    },
    {
      "cell_type": "code",
      "source": [
        "w1.upper()"
      ],
      "metadata": {
        "colab": {
          "base_uri": "https://localhost:8080/",
          "height": 35
        },
        "id": "fP2lBss3Myhq",
        "outputId": "7b93479c-d868-4f9d-d120-456ed03398a4"
      },
      "execution_count": null,
      "outputs": [
        {
          "output_type": "execute_result",
          "data": {
            "text/plain": [
              "'MARY'"
            ],
            "application/vnd.google.colaboratory.intrinsic+json": {
              "type": "string"
            }
          },
          "metadata": {},
          "execution_count": 55
        }
      ]
    },
    {
      "cell_type": "markdown",
      "source": [
        "string index"
      ],
      "metadata": {
        "id": "yZJk2NtCM_oz"
      }
    },
    {
      "cell_type": "code",
      "source": [
        "len(w1) #number of string"
      ],
      "metadata": {
        "colab": {
          "base_uri": "https://localhost:8080/"
        },
        "id": "HmuiXLZSNGNa",
        "outputId": "a04863f4-d425-4cca-ae44-b0b8506c2910"
      },
      "execution_count": null,
      "outputs": [
        {
          "output_type": "execute_result",
          "data": {
            "text/plain": [
              "4"
            ]
          },
          "metadata": {},
          "execution_count": 56
        }
      ]
    },
    {
      "cell_type": "code",
      "source": [
        "w1[0] #1st string"
      ],
      "metadata": {
        "colab": {
          "base_uri": "https://localhost:8080/",
          "height": 35
        },
        "id": "xiyozLYxM6xk",
        "outputId": "b87c69f9-889e-4473-b142-33ef06d35790"
      },
      "execution_count": null,
      "outputs": [
        {
          "output_type": "execute_result",
          "data": {
            "text/plain": [
              "'M'"
            ],
            "application/vnd.google.colaboratory.intrinsic+json": {
              "type": "string"
            }
          },
          "metadata": {},
          "execution_count": 57
        }
      ]
    },
    {
      "cell_type": "code",
      "source": [
        "w1[-1]"
      ],
      "metadata": {
        "colab": {
          "base_uri": "https://localhost:8080/",
          "height": 35
        },
        "id": "AY_Ii7FhNeof",
        "outputId": "4cda0399-33ee-42f3-bf12-9f6aa11cd329"
      },
      "execution_count": null,
      "outputs": [
        {
          "output_type": "execute_result",
          "data": {
            "text/plain": [
              "'y'"
            ],
            "application/vnd.google.colaboratory.intrinsic+json": {
              "type": "string"
            }
          },
          "metadata": {},
          "execution_count": 58
        }
      ]
    },
    {
      "cell_type": "code",
      "source": [
        "w1[0:]"
      ],
      "metadata": {
        "id": "vhfF3iXwNijx"
      },
      "execution_count": null,
      "outputs": []
    },
    {
      "cell_type": "code",
      "source": [
        "w1[:]"
      ],
      "metadata": {
        "id": "pW4m0FoyNlf4"
      },
      "execution_count": null,
      "outputs": []
    },
    {
      "cell_type": "code",
      "source": [
        "w1[1:3]"
      ],
      "metadata": {
        "id": "tgp9ozDdNpwd"
      },
      "execution_count": null,
      "outputs": []
    },
    {
      "cell_type": "code",
      "source": [
        "w = \"mary\"\n",
        "w[0:-1]"
      ],
      "metadata": {
        "id": "0Su3TuHfPxwh"
      },
      "execution_count": null,
      "outputs": []
    },
    {
      "cell_type": "markdown",
      "source": [
        "☺️ DIY: Convert a statement to a yes-no question (e.g., Mary is smart. Tom is smiling. Jane is late.)"
      ],
      "metadata": {
        "id": "lGVkVdCLNMz0"
      }
    },
    {
      "cell_type": "code",
      "source": [
        "w1 = \"Mary\"; w2 = \"is\"; w3 = \"friendly.\""
      ],
      "metadata": {
        "id": "nz1VNUviNXaJ"
      },
      "execution_count": null,
      "outputs": []
    }
  ]
}