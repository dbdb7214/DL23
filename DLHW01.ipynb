{
  "nbformat": 4,
  "nbformat_minor": 0,
  "metadata": {
    "colab": {
      "provenance": [],
      "authorship_tag": "ABX9TyO24EfNrY6YV418pKf0ZyG+",
      "include_colab_link": true
    },
    "kernelspec": {
      "name": "python3",
      "display_name": "Python 3"
    },
    "language_info": {
      "name": "python"
    }
  },
  "cells": [
    {
      "cell_type": "markdown",
      "metadata": {
        "id": "view-in-github",
        "colab_type": "text"
      },
      "source": [
        "<a href=\"https://colab.research.google.com/github/dbdb7214/DL23/blob/main/DLHW01.ipynb\" target=\"_parent\"><img src=\"https://colab.research.google.com/assets/colab-badge.svg\" alt=\"Open In Colab\"/></a>"
      ]
    },
    {
      "cell_type": "markdown",
      "source": [
        "My firsy coding"
      ],
      "metadata": {
        "id": "kBDWMzqC5XI_"
      }
    },
    {
      "cell_type": "code",
      "source": [
        "!pip install gTTS\n",
        "from gtts import gTTS\n",
        "from IPython.display import Audio\n",
        "\n",
        "def tts(text):\n",
        "  gtts_object = gTTS(text,lang = \"en\", slow = True) \n",
        "  gtts_object.save(\"myaudio.mp3\")\n",
        "  return Audio(\"myaudio.mp3\")"
      ],
      "metadata": {
        "colab": {
          "base_uri": "https://localhost:8080/"
        },
        "id": "UNwHZ65E59Z-",
        "outputId": "0baddfd8-438a-4c6c-9a3e-449d8c2fed0d"
      },
      "execution_count": 4,
      "outputs": [
        {
          "output_type": "stream",
          "name": "stdout",
          "text": [
            "Looking in indexes: https://pypi.org/simple, https://us-python.pkg.dev/colab-wheels/public/simple/\n",
            "Requirement already satisfied: gTTS in /usr/local/lib/python3.9/dist-packages (2.3.1)\n",
            "Requirement already satisfied: requests<3,>=2.27 in /usr/local/lib/python3.9/dist-packages (from gTTS) (2.28.2)\n",
            "Requirement already satisfied: click<8.2,>=7.1 in /usr/local/lib/python3.9/dist-packages (from gTTS) (8.1.3)\n",
            "Requirement already satisfied: certifi>=2017.4.17 in /usr/local/lib/python3.9/dist-packages (from requests<3,>=2.27->gTTS) (2022.12.7)\n",
            "Requirement already satisfied: urllib3<1.27,>=1.21.1 in /usr/local/lib/python3.9/dist-packages (from requests<3,>=2.27->gTTS) (1.26.15)\n",
            "Requirement already satisfied: charset-normalizer<4,>=2 in /usr/local/lib/python3.9/dist-packages (from requests<3,>=2.27->gTTS) (3.1.0)\n",
            "Requirement already satisfied: idna<4,>=2.5 in /usr/local/lib/python3.9/dist-packages (from requests<3,>=2.27->gTTS) (2.10)\n"
          ]
        }
      ]
    },
    {
      "cell_type": "code",
      "source": [
        "# [2] Try it yourself\n",
        "tts('Hello students')"
      ],
      "metadata": {
        "colab": {
          "base_uri": "https://localhost:8080/",
          "height": 74
        },
        "id": "amODnPlt6B5n",
        "outputId": "1655104e-e22f-4291-dc71-3d9fa5492b73"
      },
      "execution_count": 5,
      "outputs": [
        {
          "output_type": "execute_result",
          "data": {
            "text/plain": [
              "<IPython.lib.display.Audio object>"
            ],
            "text/html": [
              "\n",
              "                <audio  controls=\"controls\" >\n",
              "                    <source src=\"data:audio/mpeg;base64,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\" type=\"audio/mpeg\" />\n",
              "                    Your browser does not support the audio element.\n",
              "                </audio>\n",
              "              "
            ]
          },
          "metadata": {},
          "execution_count": 5
        }
      ]
    },
    {
      "cell_type": "markdown",
      "source": [],
      "metadata": {
        "id": "v9KBCsch50V5"
      }
    }
  ]
}