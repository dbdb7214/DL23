{
  "nbformat": 4,
  "nbformat_minor": 0,
  "metadata": {
    "colab": {
      "provenance": [],
      "authorship_tag": "ABX9TyNHY6HMqU+lC3qK4TH8jXaM",
      "include_colab_link": true
    },
    "kernelspec": {
      "name": "python3",
      "display_name": "Python 3"
    },
    "language_info": {
      "name": "python"
    }
  },
  "cells": [
    {
      "cell_type": "markdown",
      "metadata": {
        "id": "view-in-github",
        "colab_type": "text"
      },
      "source": [
        "<a href=\"https://colab.research.google.com/github/dbdb7214/DL23/blob/main/DLHW01.ipynb\" target=\"_parent\"><img src=\"https://colab.research.google.com/assets/colab-badge.svg\" alt=\"Open In Colab\"/></a>"
      ]
    },
    {
      "cell_type": "markdown",
      "source": [
        "My first coding"
      ],
      "metadata": {
        "id": "kBDWMzqC5XI_"
      }
    },
    {
      "cell_type": "code",
      "source": [
        "!pip install gTTS\n",
        "from gtts import gTTS\n",
        "from IPython.display import Audio\n",
        "\n",
        "def tts(text):\n",
        "  gtts_object = gTTS(text,lang = \"en\", slow = True) \n",
        "  gtts_object.save(\"myaudio.mp3\")\n",
        "  return Audio(\"myaudio.mp3\")"
      ],
      "metadata": {
        "colab": {
          "base_uri": "https://localhost:8080/"
        },
        "id": "UNwHZ65E59Z-",
        "outputId": "5548bfcf-dc6a-4595-e084-9c13d619b6f8"
      },
      "execution_count": 7,
      "outputs": [
        {
          "output_type": "stream",
          "name": "stdout",
          "text": [
            "Looking in indexes: https://pypi.org/simple, https://us-python.pkg.dev/colab-wheels/public/simple/\n",
            "Requirement already satisfied: gTTS in /usr/local/lib/python3.9/dist-packages (2.3.1)\n",
            "Requirement already satisfied: requests<3,>=2.27 in /usr/local/lib/python3.9/dist-packages (from gTTS) (2.28.2)\n",
            "Requirement already satisfied: click<8.2,>=7.1 in /usr/local/lib/python3.9/dist-packages (from gTTS) (8.1.3)\n",
            "Requirement already satisfied: certifi>=2017.4.17 in /usr/local/lib/python3.9/dist-packages (from requests<3,>=2.27->gTTS) (2022.12.7)\n",
            "Requirement already satisfied: urllib3<1.27,>=1.21.1 in /usr/local/lib/python3.9/dist-packages (from requests<3,>=2.27->gTTS) (1.26.15)\n",
            "Requirement already satisfied: charset-normalizer<4,>=2 in /usr/local/lib/python3.9/dist-packages (from requests<3,>=2.27->gTTS) (3.1.0)\n",
            "Requirement already satisfied: idna<4,>=2.5 in /usr/local/lib/python3.9/dist-packages (from requests<3,>=2.27->gTTS) (2.10)\n"
          ]
        }
      ]
    },
    {
      "cell_type": "code",
      "source": [
        "# [2] Try it yourself\n",
        "tts('Good night')"
      ],
      "metadata": {
        "colab": {
          "base_uri": "https://localhost:8080/",
          "height": 74
        },
        "id": "amODnPlt6B5n",
        "outputId": "22d9981e-c9b3-4368-fb2c-ef555162f2fe"
      },
      "execution_count": 10,
      "outputs": [
        {
          "output_type": "execute_result",
          "data": {
            "text/plain": [
              "<IPython.lib.display.Audio object>"
            ],
            "text/html": [
              "\n",
              "                <audio  controls=\"controls\" >\n",
              "                    <source src=\"data:audio/mpeg;base64,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\" type=\"audio/mpeg\" />\n",
              "                    Your browser does not support the audio element.\n",
              "                </audio>\n",
              "              "
            ]
          },
          "metadata": {},
          "execution_count": 10
        }
      ]
    },
    {
      "cell_type": "markdown",
      "source": [],
      "metadata": {
        "id": "v9KBCsch50V5"
      }
    }
  ]
}